{
  "nbformat": 4,
  "nbformat_minor": 2,
  "metadata": {
    "colab": {
      "name": "Proyecto.ipynb",
      "provenance": [],
      "collapsed_sections": [],
      "toc_visible": true
    },
    "kernelspec": {
      "name": "python3",
      "display_name": "Python 3.8.8 64-bit ('base': conda)"
    },
    "language_info": {
      "codemirror_mode": {
        "name": "ipython",
        "version": 3
      },
      "file_extension": ".py",
      "mimetype": "text/x-python",
      "name": "python",
      "nbconvert_exporter": "python",
      "pygments_lexer": "ipython3",
      "version": "3.8.8"
    },
    "interpreter": {
      "hash": "b3ba2566441a7c06988d0923437866b63cedc61552a5af99d1f4fb67d367b25f"
    }
  },
  "cells": [
    {
      "cell_type": "markdown",
      "source": [
        " #  <font color='#7E9BC0'> **Movies Recommendation | movielens.org.** </font>\r\n",
        "\r\n",
        "<b> </h4> **Data Cleaning Movies Recommendation | movielens.org** </b> \r\n",
        "</div>\r\n",
        "\r\n",
        "<b> **Autors:**</b> \r\n",
        "Juan Pablo López Salazar, Bryan Urra Calfuñir.  \r\n",
        "</div>\r\n",
        "\r\n",
        "<b> **Data Source:**</b> \r\n",
        "F. Maxwell Harper and Joseph A. Konstan. 2015. The MovieLens Datasets: History and Context. ACM Transactions on Interactive Intelligent Systems (TiiS) 5, 4: 19:1–19:19. <https://doi.org/10.1145/2827872>\r\n",
        "</div>"
      ],
      "metadata": {}
    },
    {
      "cell_type": "markdown",
      "source": [
        "# **Libreries**"
      ],
      "metadata": {
        "id": "8gtw8fDskvEB"
      }
    },
    {
      "cell_type": "code",
      "execution_count": 1,
      "source": [
        "import pandas as pd\r\n",
        "import matplotlib.pyplot as plt\r\n",
        "import seaborn as sns\r\n",
        "plt.style.use('bmh')\r\n",
        "import numpy as np\r\n",
        "import re"
      ],
      "outputs": [],
      "metadata": {
        "id": "pq8r0-r3dJ08"
      }
    },
    {
      "cell_type": "markdown",
      "source": [
        "# **Importing Data**"
      ],
      "metadata": {}
    },
    {
      "cell_type": "code",
      "execution_count": 2,
      "source": [
        "df=pd.read_csv(\"Data Cleaning/df.csv\")\r\n",
        "df"
      ],
      "outputs": [
        {
          "output_type": "execute_result",
          "data": {
            "text/html": [
              "<div>\n",
              "<style scoped>\n",
              "    .dataframe tbody tr th:only-of-type {\n",
              "        vertical-align: middle;\n",
              "    }\n",
              "\n",
              "    .dataframe tbody tr th {\n",
              "        vertical-align: top;\n",
              "    }\n",
              "\n",
              "    .dataframe thead th {\n",
              "        text-align: right;\n",
              "    }\n",
              "</style>\n",
              "<table border=\"1\" class=\"dataframe\">\n",
              "  <thead>\n",
              "    <tr style=\"text-align: right;\">\n",
              "      <th></th>\n",
              "      <th>Unnamed: 0</th>\n",
              "      <th>movieId</th>\n",
              "      <th>title</th>\n",
              "      <th>year</th>\n",
              "      <th>Musical</th>\n",
              "      <th>(no genres listed)</th>\n",
              "      <th>Horror</th>\n",
              "      <th>War</th>\n",
              "      <th>Mystery</th>\n",
              "      <th>Western</th>\n",
              "      <th>...</th>\n",
              "      <th>Fantasy</th>\n",
              "      <th>Children</th>\n",
              "      <th>Romance</th>\n",
              "      <th>Adventure</th>\n",
              "      <th>Sci-Fi</th>\n",
              "      <th>Crime</th>\n",
              "      <th>Documentary</th>\n",
              "      <th>IMAX</th>\n",
              "      <th>userId</th>\n",
              "      <th>rating</th>\n",
              "    </tr>\n",
              "  </thead>\n",
              "  <tbody>\n",
              "    <tr>\n",
              "      <th>0</th>\n",
              "      <td>0</td>\n",
              "      <td>1</td>\n",
              "      <td>Toy Story (1995)</td>\n",
              "      <td>1995</td>\n",
              "      <td>0</td>\n",
              "      <td>0</td>\n",
              "      <td>0</td>\n",
              "      <td>0</td>\n",
              "      <td>0</td>\n",
              "      <td>0</td>\n",
              "      <td>...</td>\n",
              "      <td>1</td>\n",
              "      <td>1</td>\n",
              "      <td>0</td>\n",
              "      <td>1</td>\n",
              "      <td>0</td>\n",
              "      <td>0</td>\n",
              "      <td>0</td>\n",
              "      <td>0</td>\n",
              "      <td>4</td>\n",
              "      <td>4.0</td>\n",
              "    </tr>\n",
              "    <tr>\n",
              "      <th>1</th>\n",
              "      <td>1</td>\n",
              "      <td>1</td>\n",
              "      <td>Toy Story (1995)</td>\n",
              "      <td>1995</td>\n",
              "      <td>0</td>\n",
              "      <td>0</td>\n",
              "      <td>0</td>\n",
              "      <td>0</td>\n",
              "      <td>0</td>\n",
              "      <td>0</td>\n",
              "      <td>...</td>\n",
              "      <td>1</td>\n",
              "      <td>1</td>\n",
              "      <td>0</td>\n",
              "      <td>1</td>\n",
              "      <td>0</td>\n",
              "      <td>0</td>\n",
              "      <td>0</td>\n",
              "      <td>0</td>\n",
              "      <td>10</td>\n",
              "      <td>5.0</td>\n",
              "    </tr>\n",
              "    <tr>\n",
              "      <th>2</th>\n",
              "      <td>2</td>\n",
              "      <td>1</td>\n",
              "      <td>Toy Story (1995)</td>\n",
              "      <td>1995</td>\n",
              "      <td>0</td>\n",
              "      <td>0</td>\n",
              "      <td>0</td>\n",
              "      <td>0</td>\n",
              "      <td>0</td>\n",
              "      <td>0</td>\n",
              "      <td>...</td>\n",
              "      <td>1</td>\n",
              "      <td>1</td>\n",
              "      <td>0</td>\n",
              "      <td>1</td>\n",
              "      <td>0</td>\n",
              "      <td>0</td>\n",
              "      <td>0</td>\n",
              "      <td>0</td>\n",
              "      <td>14</td>\n",
              "      <td>4.5</td>\n",
              "    </tr>\n",
              "    <tr>\n",
              "      <th>3</th>\n",
              "      <td>3</td>\n",
              "      <td>1</td>\n",
              "      <td>Toy Story (1995)</td>\n",
              "      <td>1995</td>\n",
              "      <td>0</td>\n",
              "      <td>0</td>\n",
              "      <td>0</td>\n",
              "      <td>0</td>\n",
              "      <td>0</td>\n",
              "      <td>0</td>\n",
              "      <td>...</td>\n",
              "      <td>1</td>\n",
              "      <td>1</td>\n",
              "      <td>0</td>\n",
              "      <td>1</td>\n",
              "      <td>0</td>\n",
              "      <td>0</td>\n",
              "      <td>0</td>\n",
              "      <td>0</td>\n",
              "      <td>15</td>\n",
              "      <td>4.0</td>\n",
              "    </tr>\n",
              "    <tr>\n",
              "      <th>4</th>\n",
              "      <td>4</td>\n",
              "      <td>1</td>\n",
              "      <td>Toy Story (1995)</td>\n",
              "      <td>1995</td>\n",
              "      <td>0</td>\n",
              "      <td>0</td>\n",
              "      <td>0</td>\n",
              "      <td>0</td>\n",
              "      <td>0</td>\n",
              "      <td>0</td>\n",
              "      <td>...</td>\n",
              "      <td>1</td>\n",
              "      <td>1</td>\n",
              "      <td>0</td>\n",
              "      <td>1</td>\n",
              "      <td>0</td>\n",
              "      <td>0</td>\n",
              "      <td>0</td>\n",
              "      <td>0</td>\n",
              "      <td>22</td>\n",
              "      <td>4.0</td>\n",
              "    </tr>\n",
              "    <tr>\n",
              "      <th>...</th>\n",
              "      <td>...</td>\n",
              "      <td>...</td>\n",
              "      <td>...</td>\n",
              "      <td>...</td>\n",
              "      <td>...</td>\n",
              "      <td>...</td>\n",
              "      <td>...</td>\n",
              "      <td>...</td>\n",
              "      <td>...</td>\n",
              "      <td>...</td>\n",
              "      <td>...</td>\n",
              "      <td>...</td>\n",
              "      <td>...</td>\n",
              "      <td>...</td>\n",
              "      <td>...</td>\n",
              "      <td>...</td>\n",
              "      <td>...</td>\n",
              "      <td>...</td>\n",
              "      <td>...</td>\n",
              "      <td>...</td>\n",
              "      <td>...</td>\n",
              "    </tr>\n",
              "    <tr>\n",
              "      <th>21363023</th>\n",
              "      <td>21363023</td>\n",
              "      <td>192283</td>\n",
              "      <td>Crazy Rich Asians (2018)</td>\n",
              "      <td>2018</td>\n",
              "      <td>0</td>\n",
              "      <td>0</td>\n",
              "      <td>0</td>\n",
              "      <td>0</td>\n",
              "      <td>0</td>\n",
              "      <td>0</td>\n",
              "      <td>...</td>\n",
              "      <td>0</td>\n",
              "      <td>0</td>\n",
              "      <td>0</td>\n",
              "      <td>0</td>\n",
              "      <td>0</td>\n",
              "      <td>0</td>\n",
              "      <td>0</td>\n",
              "      <td>0</td>\n",
              "      <td>261224</td>\n",
              "      <td>3.5</td>\n",
              "    </tr>\n",
              "    <tr>\n",
              "      <th>21363024</th>\n",
              "      <td>21363024</td>\n",
              "      <td>192283</td>\n",
              "      <td>Crazy Rich Asians (2018)</td>\n",
              "      <td>2018</td>\n",
              "      <td>0</td>\n",
              "      <td>0</td>\n",
              "      <td>0</td>\n",
              "      <td>0</td>\n",
              "      <td>0</td>\n",
              "      <td>0</td>\n",
              "      <td>...</td>\n",
              "      <td>0</td>\n",
              "      <td>0</td>\n",
              "      <td>0</td>\n",
              "      <td>0</td>\n",
              "      <td>0</td>\n",
              "      <td>0</td>\n",
              "      <td>0</td>\n",
              "      <td>0</td>\n",
              "      <td>261870</td>\n",
              "      <td>0.5</td>\n",
              "    </tr>\n",
              "    <tr>\n",
              "      <th>21363025</th>\n",
              "      <td>21363025</td>\n",
              "      <td>192283</td>\n",
              "      <td>Crazy Rich Asians (2018)</td>\n",
              "      <td>2018</td>\n",
              "      <td>0</td>\n",
              "      <td>0</td>\n",
              "      <td>0</td>\n",
              "      <td>0</td>\n",
              "      <td>0</td>\n",
              "      <td>0</td>\n",
              "      <td>...</td>\n",
              "      <td>0</td>\n",
              "      <td>0</td>\n",
              "      <td>0</td>\n",
              "      <td>0</td>\n",
              "      <td>0</td>\n",
              "      <td>0</td>\n",
              "      <td>0</td>\n",
              "      <td>0</td>\n",
              "      <td>266861</td>\n",
              "      <td>3.5</td>\n",
              "    </tr>\n",
              "    <tr>\n",
              "      <th>21363026</th>\n",
              "      <td>21363026</td>\n",
              "      <td>192283</td>\n",
              "      <td>Crazy Rich Asians (2018)</td>\n",
              "      <td>2018</td>\n",
              "      <td>0</td>\n",
              "      <td>0</td>\n",
              "      <td>0</td>\n",
              "      <td>0</td>\n",
              "      <td>0</td>\n",
              "      <td>0</td>\n",
              "      <td>...</td>\n",
              "      <td>0</td>\n",
              "      <td>0</td>\n",
              "      <td>0</td>\n",
              "      <td>0</td>\n",
              "      <td>0</td>\n",
              "      <td>0</td>\n",
              "      <td>0</td>\n",
              "      <td>0</td>\n",
              "      <td>275841</td>\n",
              "      <td>3.0</td>\n",
              "    </tr>\n",
              "    <tr>\n",
              "      <th>21363027</th>\n",
              "      <td>21363027</td>\n",
              "      <td>192283</td>\n",
              "      <td>Crazy Rich Asians (2018)</td>\n",
              "      <td>2018</td>\n",
              "      <td>0</td>\n",
              "      <td>0</td>\n",
              "      <td>0</td>\n",
              "      <td>0</td>\n",
              "      <td>0</td>\n",
              "      <td>0</td>\n",
              "      <td>...</td>\n",
              "      <td>0</td>\n",
              "      <td>0</td>\n",
              "      <td>0</td>\n",
              "      <td>0</td>\n",
              "      <td>0</td>\n",
              "      <td>0</td>\n",
              "      <td>0</td>\n",
              "      <td>0</td>\n",
              "      <td>277968</td>\n",
              "      <td>3.5</td>\n",
              "    </tr>\n",
              "  </tbody>\n",
              "</table>\n",
              "<p>21363028 rows × 26 columns</p>\n",
              "</div>"
            ],
            "text/plain": [
              "          Unnamed: 0  movieId                     title  year  Musical  \\\n",
              "0                  0        1          Toy Story (1995)  1995        0   \n",
              "1                  1        1          Toy Story (1995)  1995        0   \n",
              "2                  2        1          Toy Story (1995)  1995        0   \n",
              "3                  3        1          Toy Story (1995)  1995        0   \n",
              "4                  4        1          Toy Story (1995)  1995        0   \n",
              "...              ...      ...                       ...   ...      ...   \n",
              "21363023    21363023   192283  Crazy Rich Asians (2018)  2018        0   \n",
              "21363024    21363024   192283  Crazy Rich Asians (2018)  2018        0   \n",
              "21363025    21363025   192283  Crazy Rich Asians (2018)  2018        0   \n",
              "21363026    21363026   192283  Crazy Rich Asians (2018)  2018        0   \n",
              "21363027    21363027   192283  Crazy Rich Asians (2018)  2018        0   \n",
              "\n",
              "          (no genres listed)  Horror  War  Mystery  Western  ...  Fantasy  \\\n",
              "0                          0       0    0        0        0  ...        1   \n",
              "1                          0       0    0        0        0  ...        1   \n",
              "2                          0       0    0        0        0  ...        1   \n",
              "3                          0       0    0        0        0  ...        1   \n",
              "4                          0       0    0        0        0  ...        1   \n",
              "...                      ...     ...  ...      ...      ...  ...      ...   \n",
              "21363023                   0       0    0        0        0  ...        0   \n",
              "21363024                   0       0    0        0        0  ...        0   \n",
              "21363025                   0       0    0        0        0  ...        0   \n",
              "21363026                   0       0    0        0        0  ...        0   \n",
              "21363027                   0       0    0        0        0  ...        0   \n",
              "\n",
              "          Children  Romance  Adventure  Sci-Fi  Crime  Documentary  IMAX  \\\n",
              "0                1        0          1       0      0            0     0   \n",
              "1                1        0          1       0      0            0     0   \n",
              "2                1        0          1       0      0            0     0   \n",
              "3                1        0          1       0      0            0     0   \n",
              "4                1        0          1       0      0            0     0   \n",
              "...            ...      ...        ...     ...    ...          ...   ...   \n",
              "21363023         0        0          0       0      0            0     0   \n",
              "21363024         0        0          0       0      0            0     0   \n",
              "21363025         0        0          0       0      0            0     0   \n",
              "21363026         0        0          0       0      0            0     0   \n",
              "21363027         0        0          0       0      0            0     0   \n",
              "\n",
              "          userId  rating  \n",
              "0              4     4.0  \n",
              "1             10     5.0  \n",
              "2             14     4.5  \n",
              "3             15     4.0  \n",
              "4             22     4.0  \n",
              "...          ...     ...  \n",
              "21363023  261224     3.5  \n",
              "21363024  261870     0.5  \n",
              "21363025  266861     3.5  \n",
              "21363026  275841     3.0  \n",
              "21363027  277968     3.5  \n",
              "\n",
              "[21363028 rows x 26 columns]"
            ]
          },
          "metadata": {},
          "execution_count": 2
        }
      ],
      "metadata": {
        "id": "tU0UGsK0qiGG",
        "colab": {
          "base_uri": "https://localhost:8080/",
          "height": 886
        },
        "outputId": "084e7b46-3534-4128-8d80-0c19bfc102f8"
      }
    },
    {
      "cell_type": "markdown",
      "source": [
        "# **Algorithm 1: Popularity**"
      ],
      "metadata": {
        "id": "nC8IUw3bi0dW"
      }
    },
    {
      "cell_type": "markdown",
      "source": [
        "IMDB uses this a formula to determinate the popularity of a movie, which is: \r\n",
        "    \r\n",
        "*Weighted Rating (WR)* = $(\\frac{v}{v + m} . R) + (\\frac{m}{v + m} . C)$\r\n",
        "\r\n",
        "Consider:\r\n",
        "* *v* number of rates\r\n",
        "* *m* minimum rates to could be consider\r\n",
        "* *R* average rating of the movie\r\n",
        "* *C* average rating of all the movies\r\n"
      ],
      "metadata": {
        "id": "y5j1sVEexKeC"
      }
    },
    {
      "cell_type": "code",
      "execution_count": null,
      "source": [
        "rat_orig = pd.read_csv(\"Data Cleaning/ratings.csv\")\r\n",
        "movies = pd.read_csv(\"Data Cleaning/movies.csv\",index_col=0)"
      ],
      "outputs": [],
      "metadata": {}
    },
    {
      "cell_type": "code",
      "execution_count": null,
      "source": [
        "C=rat_orig['rating'].mean()\r\n",
        "rating_prom=rat_orig.groupby('movieId')['rating'].agg([len,np.mean])\r\n",
        "m=rating_prom['len'].quantile(0.75)\r\n",
        "rating_prom=rating_prom[rating_prom['len']>m]\r\n",
        "rating_prom['Title']=movies['title'][rating_prom.index]\r\n",
        "rating_prom['Weighted Rating']=(rating_prom['len']*rating_prom['mean']+m*C)/(m+rating_prom['len'])\r\n",
        "rating_prom=rating_prom.sort_values(by='Weighted Rating',ascending=False)\r\n",
        "rating_prom[['Title','Weighted Rating','len','mean']].head(10)"
      ],
      "outputs": [
        {
          "output_type": "execute_result",
          "data": {
            "text/html": [
              "<div>\n",
              "<style scoped>\n",
              "    .dataframe tbody tr th:only-of-type {\n",
              "        vertical-align: middle;\n",
              "    }\n",
              "\n",
              "    .dataframe tbody tr th {\n",
              "        vertical-align: top;\n",
              "    }\n",
              "\n",
              "    .dataframe thead th {\n",
              "        text-align: right;\n",
              "    }\n",
              "</style>\n",
              "<table border=\"1\" class=\"dataframe\">\n",
              "  <thead>\n",
              "    <tr style=\"text-align: right;\">\n",
              "      <th></th>\n",
              "      <th>Title</th>\n",
              "      <th>Weighted Rating</th>\n",
              "      <th>len</th>\n",
              "      <th>mean</th>\n",
              "    </tr>\n",
              "    <tr>\n",
              "      <th>movieId</th>\n",
              "      <th></th>\n",
              "      <th></th>\n",
              "      <th></th>\n",
              "      <th></th>\n",
              "    </tr>\n",
              "  </thead>\n",
              "  <tbody>\n",
              "    <tr>\n",
              "      <th>171011</th>\n",
              "      <td>Planet Earth II (2016)</td>\n",
              "      <td>4.435584</td>\n",
              "      <td>853.0</td>\n",
              "      <td>4.486518</td>\n",
              "    </tr>\n",
              "    <tr>\n",
              "      <th>159817</th>\n",
              "      <td>Planet Earth (2006)</td>\n",
              "      <td>4.426998</td>\n",
              "      <td>1384.0</td>\n",
              "      <td>4.458092</td>\n",
              "    </tr>\n",
              "    <tr>\n",
              "      <th>318</th>\n",
              "      <td>Shawshank Redemption, The (1994)</td>\n",
              "      <td>4.423750</td>\n",
              "      <td>97999.0</td>\n",
              "      <td>4.424188</td>\n",
              "    </tr>\n",
              "    <tr>\n",
              "      <th>170705</th>\n",
              "      <td>Band of Brothers (2001)</td>\n",
              "      <td>4.359459</td>\n",
              "      <td>984.0</td>\n",
              "      <td>4.399898</td>\n",
              "    </tr>\n",
              "    <tr>\n",
              "      <th>858</th>\n",
              "      <td>Godfather, The (1972)</td>\n",
              "      <td>4.332261</td>\n",
              "      <td>60904.0</td>\n",
              "      <td>4.332893</td>\n",
              "    </tr>\n",
              "    <tr>\n",
              "      <th>174053</th>\n",
              "      <td>Black Mirror: White Christmas (2014)</td>\n",
              "      <td>4.315474</td>\n",
              "      <td>1074.0</td>\n",
              "      <td>4.350559</td>\n",
              "    </tr>\n",
              "    <tr>\n",
              "      <th>50</th>\n",
              "      <td>Usual Suspects, The (1995)</td>\n",
              "      <td>4.291371</td>\n",
              "      <td>62180.0</td>\n",
              "      <td>4.291959</td>\n",
              "    </tr>\n",
              "    <tr>\n",
              "      <th>1221</th>\n",
              "      <td>Godfather: Part II, The (1974)</td>\n",
              "      <td>4.262132</td>\n",
              "      <td>38875.0</td>\n",
              "      <td>4.263035</td>\n",
              "    </tr>\n",
              "    <tr>\n",
              "      <th>527</th>\n",
              "      <td>Schindler's List (1993)</td>\n",
              "      <td>4.257014</td>\n",
              "      <td>71516.0</td>\n",
              "      <td>4.257502</td>\n",
              "    </tr>\n",
              "    <tr>\n",
              "      <th>172591</th>\n",
              "      <td>The Godfather Trilogy: 1972-1990 (1992)</td>\n",
              "      <td>4.256847</td>\n",
              "      <td>421.0</td>\n",
              "      <td>4.339667</td>\n",
              "    </tr>\n",
              "  </tbody>\n",
              "</table>\n",
              "</div>"
            ],
            "text/plain": [
              "                                           Title  Weighted Rating      len  \\\n",
              "movieId                                                                      \n",
              "171011                    Planet Earth II (2016)         4.435584    853.0   \n",
              "159817                       Planet Earth (2006)         4.426998   1384.0   \n",
              "318             Shawshank Redemption, The (1994)         4.423750  97999.0   \n",
              "170705                   Band of Brothers (2001)         4.359459    984.0   \n",
              "858                        Godfather, The (1972)         4.332261  60904.0   \n",
              "174053      Black Mirror: White Christmas (2014)         4.315474   1074.0   \n",
              "50                    Usual Suspects, The (1995)         4.291371  62180.0   \n",
              "1221              Godfather: Part II, The (1974)         4.262132  38875.0   \n",
              "527                      Schindler's List (1993)         4.257014  71516.0   \n",
              "172591   The Godfather Trilogy: 1972-1990 (1992)         4.256847    421.0   \n",
              "\n",
              "             mean  \n",
              "movieId            \n",
              "171011   4.486518  \n",
              "159817   4.458092  \n",
              "318      4.424188  \n",
              "170705   4.399898  \n",
              "858      4.332893  \n",
              "174053   4.350559  \n",
              "50       4.291959  \n",
              "1221     4.263035  \n",
              "527      4.257502  \n",
              "172591   4.339667  "
            ]
          },
          "metadata": {},
          "execution_count": 13
        }
      ],
      "metadata": {
        "colab": {
          "base_uri": "https://localhost:8080/",
          "height": 376
        },
        "id": "5LBdytZxwIKQ",
        "outputId": "606d6f20-9327-47c6-99ce-0c4aed84571e"
      }
    },
    {
      "cell_type": "markdown",
      "source": [
        "Let's try to modify the mimimum rate"
      ],
      "metadata": {
        "id": "JKAsD7EzpTmL"
      }
    },
    {
      "cell_type": "code",
      "execution_count": null,
      "source": [
        "C=rat_orig['rating'].mean()\r\n",
        "rating_prom=rat_orig.groupby('movieId')['rating'].agg([len,np.mean])\r\n",
        "m=rating_prom['len'].quantile(0.95)\r\n",
        "rating_prom=rating_prom[rating_prom['len']>m]\r\n",
        "rating_prom['Title']=movies['title'][rating_prom.index]\r\n",
        "rating_prom['Weighted Rating']=(rating_prom['len']*rating_prom['mean']+m*C)/(m+rating_prom['len'])\r\n",
        "rating_prom=rating_prom.sort_values(by='Weighted Rating',ascending=False)\r\n",
        "rating_prom[['Title','Weighted Rating','len','mean']].head(10)"
      ],
      "outputs": [
        {
          "output_type": "execute_result",
          "data": {
            "text/html": [
              "<div>\n",
              "<style scoped>\n",
              "    .dataframe tbody tr th:only-of-type {\n",
              "        vertical-align: middle;\n",
              "    }\n",
              "\n",
              "    .dataframe tbody tr th {\n",
              "        vertical-align: top;\n",
              "    }\n",
              "\n",
              "    .dataframe thead th {\n",
              "        text-align: right;\n",
              "    }\n",
              "</style>\n",
              "<table border=\"1\" class=\"dataframe\">\n",
              "  <thead>\n",
              "    <tr style=\"text-align: right;\">\n",
              "      <th></th>\n",
              "      <th>Title</th>\n",
              "      <th>Weighted Rating</th>\n",
              "      <th>len</th>\n",
              "      <th>mean</th>\n",
              "    </tr>\n",
              "    <tr>\n",
              "      <th>movieId</th>\n",
              "      <th></th>\n",
              "      <th></th>\n",
              "      <th></th>\n",
              "      <th></th>\n",
              "    </tr>\n",
              "  </thead>\n",
              "  <tbody>\n",
              "    <tr>\n",
              "      <th>318</th>\n",
              "      <td>Shawshank Redemption, The (1994)</td>\n",
              "      <td>4.407585</td>\n",
              "      <td>97999.0</td>\n",
              "      <td>4.424188</td>\n",
              "    </tr>\n",
              "    <tr>\n",
              "      <th>858</th>\n",
              "      <td>Godfather, The (1972)</td>\n",
              "      <td>4.309174</td>\n",
              "      <td>60904.0</td>\n",
              "      <td>4.332893</td>\n",
              "    </tr>\n",
              "    <tr>\n",
              "      <th>50</th>\n",
              "      <td>Usual Suspects, The (1995)</td>\n",
              "      <td>4.269899</td>\n",
              "      <td>62180.0</td>\n",
              "      <td>4.291959</td>\n",
              "    </tr>\n",
              "    <tr>\n",
              "      <th>527</th>\n",
              "      <td>Schindler's List (1993)</td>\n",
              "      <td>4.239120</td>\n",
              "      <td>71516.0</td>\n",
              "      <td>4.257502</td>\n",
              "    </tr>\n",
              "    <tr>\n",
              "      <th>1221</th>\n",
              "      <td>Godfather: Part II, The (1974)</td>\n",
              "      <td>4.229670</td>\n",
              "      <td>38875.0</td>\n",
              "      <td>4.263035</td>\n",
              "    </tr>\n",
              "    <tr>\n",
              "      <th>2959</th>\n",
              "      <td>Fight Club (1999)</td>\n",
              "      <td>4.211430</td>\n",
              "      <td>65678.0</td>\n",
              "      <td>4.230663</td>\n",
              "    </tr>\n",
              "    <tr>\n",
              "      <th>1193</th>\n",
              "      <td>One Flew Over the Cuckoo's Nest (1975)</td>\n",
              "      <td>4.193750</td>\n",
              "      <td>42181.0</td>\n",
              "      <td>4.222920</td>\n",
              "    </tr>\n",
              "    <tr>\n",
              "      <th>904</th>\n",
              "      <td>Rear Window (1954)</td>\n",
              "      <td>4.176934</td>\n",
              "      <td>22264.0</td>\n",
              "      <td>4.230799</td>\n",
              "    </tr>\n",
              "    <tr>\n",
              "      <th>2019</th>\n",
              "      <td>Seven Samurai (Shichinin no samurai) (1954)</td>\n",
              "      <td>4.172426</td>\n",
              "      <td>14578.0</td>\n",
              "      <td>4.254116</td>\n",
              "    </tr>\n",
              "    <tr>\n",
              "      <th>912</th>\n",
              "      <td>Casablanca (1942)</td>\n",
              "      <td>4.171835</td>\n",
              "      <td>31095.0</td>\n",
              "      <td>4.210098</td>\n",
              "    </tr>\n",
              "  </tbody>\n",
              "</table>\n",
              "</div>"
            ],
            "text/plain": [
              "                                               Title  Weighted Rating  \\\n",
              "movieId                                                                 \n",
              "318                 Shawshank Redemption, The (1994)         4.407585   \n",
              "858                            Godfather, The (1972)         4.309174   \n",
              "50                        Usual Suspects, The (1995)         4.269899   \n",
              "527                          Schindler's List (1993)         4.239120   \n",
              "1221                  Godfather: Part II, The (1974)         4.229670   \n",
              "2959                               Fight Club (1999)         4.211430   \n",
              "1193          One Flew Over the Cuckoo's Nest (1975)         4.193750   \n",
              "904                               Rear Window (1954)         4.176934   \n",
              "2019     Seven Samurai (Shichinin no samurai) (1954)         4.172426   \n",
              "912                                Casablanca (1942)         4.171835   \n",
              "\n",
              "             len      mean  \n",
              "movieId                     \n",
              "318      97999.0  4.424188  \n",
              "858      60904.0  4.332893  \n",
              "50       62180.0  4.291959  \n",
              "527      71516.0  4.257502  \n",
              "1221     38875.0  4.263035  \n",
              "2959     65678.0  4.230663  \n",
              "1193     42181.0  4.222920  \n",
              "904      22264.0  4.230799  \n",
              "2019     14578.0  4.254116  \n",
              "912      31095.0  4.210098  "
            ]
          },
          "metadata": {},
          "execution_count": 14
        }
      ],
      "metadata": {
        "colab": {
          "base_uri": "https://localhost:8080/",
          "height": 376
        },
        "id": "llaUKg0VQFdr",
        "outputId": "cc131554-5e23-448c-ce50-e7d465d04876"
      }
    },
    {
      "cell_type": "markdown",
      "source": [
        "This model generate different rating according to the minimum number of rates considered. This may be a problem, as well that the result isn't personalized to the user"
      ],
      "metadata": {}
    },
    {
      "cell_type": "markdown",
      "source": [
        "# **Algorithm 2: Machine Learning ALS**"
      ],
      "metadata": {
        "id": "PpZrv1APi7wl"
      }
    },
    {
      "cell_type": "markdown",
      "source": [],
      "metadata": {
        "id": "rzs3N6ANw7iQ"
      }
    },
    {
      "cell_type": "markdown",
      "source": [
        "## Librerias Pyspark"
      ],
      "metadata": {
        "id": "ddWWgE4qpjt9"
      }
    },
    {
      "cell_type": "code",
      "execution_count": 2,
      "source": [
        "import os\r\n",
        "os.environ['SPARK_HOME'] = \"C:\\Program Files\\spark-3.1.2-bin-hadoop2.7\""
      ],
      "outputs": [],
      "metadata": {}
    },
    {
      "cell_type": "code",
      "execution_count": 3,
      "source": [
        "import findspark \r\n",
        "findspark.init()\r\n",
        "from pyspark.ml.evaluation import RegressionEvaluator\r\n",
        "from pyspark.ml.recommendation import ALS\r\n",
        "from pyspark.ml.tuning import TrainValidationSplit, ParamGridBuilder\r\n",
        "from pyspark.sql import *\r\n",
        "from pyspark.sql.types import *\r\n",
        "from pyspark.sql import SparkSession"
      ],
      "outputs": [],
      "metadata": {
        "id": "3gN0gT0C0ES5"
      }
    },
    {
      "cell_type": "code",
      "execution_count": 4,
      "source": [
        "spark = SparkSession.builder.appName('Recommendation System').master('local[*]').config('spark.driver.memory','12G').config('spark.ui.showConsoleProgress', True).config(\"spark.driver.maxResultSize\", \"4g\").getOrCreate()"
      ],
      "outputs": [],
      "metadata": {
        "id": "Y6MVGjLol__v"
      }
    },
    {
      "cell_type": "markdown",
      "source": [
        "CreateSpark Data Frame"
      ],
      "metadata": {
        "id": "W11Kynwipo5_"
      }
    },
    {
      "cell_type": "code",
      "execution_count": 5,
      "source": [
        "#Use these codes in case that you want to import the data direct using pyspark\r\n",
        "sdf = spark.read.csv('Data Cleaning/df.csv',header=True, inferSchema='True')\r\n",
        "#This code create a spark datafram from the original DF\r\n",
        "#sparkDf = spark.createDataFrame(df)\r\n",
        "#sparkDf.show()"
      ],
      "outputs": [],
      "metadata": {
        "colab": {
          "base_uri": "https://localhost:8080/"
        },
        "id": "FvHnq8FN1LrM",
        "outputId": "fed844cd-c496-4bae-e5d5-9c8b9bc77b2d"
      }
    },
    {
      "cell_type": "markdown",
      "source": [
        "## **Training Model**"
      ],
      "metadata": {
        "id": "JEngxBVvpymM"
      }
    },
    {
      "cell_type": "code",
      "execution_count": 6,
      "source": [
        "train, test = sdf.randomSplit([0.75,0.25])\r\n",
        "\r\n",
        "als=ALS(userCol=\"userId\", itemCol=\"movieId\", ratingCol=\"rating\", coldStartStrategy=\"drop\", nonnegative=True)\r\n",
        "param_grid= ParamGridBuilder()\\\r\n",
        "            .addGrid(als.rank, [12,13,14])\\\r\n",
        "            .addGrid(als.maxIter, [18,19,20])\\\r\n",
        "            .addGrid(als.regParam, [.15,.16,.17])\\\r\n",
        "            .build()\r\n",
        "evaluator=RegressionEvaluator(metricName=\"rmse\", labelCol=\"rating\", predictionCol=\"prediction\")\r\n",
        "\r\n",
        "tvs= TrainValidationSplit(\r\n",
        "    estimator=als,\r\n",
        "    estimatorParamMaps=param_grid,\r\n",
        "    evaluator=evaluator)\r\n",
        "\r\n",
        "model=tvs.fit(train)\r\n",
        "# check https://www.kaggle.com/vchulski/tutorial-collaborative-filtering-with-pyspark"
      ],
      "outputs": [],
      "metadata": {
        "id": "RxVSqRcUi5VJ"
      }
    },
    {
      "cell_type": "markdown",
      "source": [
        "## Chosing best Model"
      ],
      "metadata": {
        "id": "BZP6kmxfp8W9"
      }
    },
    {
      "cell_type": "code",
      "execution_count": 7,
      "source": [
        "best_model=model.bestModel\r\n",
        "\r\n",
        "predictions=best_model.transform(test)\r\n",
        "rmse=evaluator.evaluate(predictions)\r\n",
        "\r\n",
        "print(\"RMSE = \"+str(rmse))\r\n",
        "print(\"*Best Model*\")\r\n",
        "print(\" Rank: \", best_model.rank)\r\n",
        "print(\" MaxIter: \", best_model._java_obj.parent().getMaxIter())\r\n",
        "print(\" RegParam: \", best_model._java_obj.parent().getRegParam())"
      ],
      "outputs": [
        {
          "output_type": "stream",
          "name": "stdout",
          "text": [
            "RMSE = 0.8278777605933034\n",
            "*Best Model*\n",
            " Rank:  12\n",
            " MaxIter:  20\n",
            " RegParam:  0.15\n"
          ]
        }
      ],
      "metadata": {
        "id": "x1k7iFP-_Dju",
        "colab": {
          "base_uri": "https://localhost:8080/"
        },
        "outputId": "d04a52df-da44-40f3-e539-ba0354eb8f7c"
      }
    },
    {
      "cell_type": "markdown",
      "source": [
        "## **Predicting**"
      ],
      "metadata": {
        "id": "bkSC2F2Tp-2l"
      }
    },
    {
      "cell_type": "code",
      "execution_count": 8,
      "source": [
        "import pandas as pd\r\n",
        "My_own_rates=[{'userId':30000,'movieId':1,'rating':5},\r\n",
        "              {'userId':30000,'movieId':152017,'rating':5},\r\n",
        "              {'userId':30000,'movieId':5378,'rating':5},\r\n",
        "              {'userId':30000,'movieId':66097,'rating':1},\r\n",
        "              {'userId':30000,'movieId':2324,'rating':5},\r\n",
        "              {'userId':30000,'movieId':136864,'rating':2},\r\n",
        "              {'userId':30000,'movieId':8533,'rating':5},\r\n",
        "              {'userId':40001,'movieId':72998,'rating':5},\r\n",
        "              {'userId':40001,'movieId':5378,'rating':5},\r\n",
        "              {'userId':40001,'movieId':106002,'rating':5},\r\n",
        "              {'userId':40001,'movieId':175303,'rating':5},\r\n",
        "              {'userId':40001,'movieId':176371,'rating':1},\r\n",
        "              {'userId':40001,'movieId':175197,'rating':3},\r\n",
        "              {'userId':50001,'movieId':7293,'rating':4},\r\n",
        "              {'userId':50001,'movieId':102716,'rating':5},\r\n",
        "              {'userId':50001,'movieId':117176,'rating':5},\r\n",
        "              {'userId':50001,'movieId':5218,'rating':4},\r\n",
        "              {'userId':60001,'movieId':2571,'rating':5},\r\n",
        "              {'userId':60001,'movieId':73017,'rating':5},\r\n",
        "              {'userId':60001,'movieId':6539,'rating':5},\r\n",
        "              {'userId':60001,'movieId':91630,'rating':5}\r\n",
        "              ]\r\n",
        "testing = spark.createDataFrame(My_own_rates)\r\n",
        "print(testing.schema)"
      ],
      "outputs": [
        {
          "output_type": "stream",
          "name": "stdout",
          "text": [
            "StructType(List(StructField(movieId,LongType,true),StructField(rating,LongType,true),StructField(userId,LongType,true)))\n"
          ]
        }
      ],
      "metadata": {
        "id": "yZyxsQ-6qvFM"
      }
    },
    {
      "cell_type": "markdown",
      "source": [
        "## Transformar muestra de prueba a Spark Data Frame"
      ],
      "metadata": {
        "id": "SgRH6JyNqDz_"
      }
    },
    {
      "cell_type": "markdown",
      "source": [
        "## Recomendation from the sample"
      ],
      "metadata": {
        "id": "tpeJNjNcqKDZ"
      }
    },
    {
      "cell_type": "code",
      "execution_count": 9,
      "source": [
        "n=5\r\n",
        "recommendations = best_model.recommendForUserSubset(testing,n)"
      ],
      "outputs": [],
      "metadata": {
        "id": "2cN_rTOWprTj",
        "colab": {
          "base_uri": "https://localhost:8080/",
          "height": 173
        },
        "outputId": "5902ae17-411e-442a-b835-b0ba62e9ac08"
      }
    },
    {
      "cell_type": "markdown",
      "source": [
        "## Recomendaciones a usuarios de prueba"
      ],
      "metadata": {
        "id": "9bMt68gaqOgD"
      }
    },
    {
      "cell_type": "code",
      "execution_count": 14,
      "source": [
        "recommendations.collect()"
      ],
      "outputs": [
        {
          "output_type": "execute_result",
          "data": {
            "text/plain": [
              "[Row(userId=60001, recommendations=[Row(movieId=72035, rating=4.29457426071167), Row(movieId=70186, rating=4.291853904724121), Row(movieId=86668, rating=4.265766143798828), Row(movieId=128981, rating=4.261157035827637), Row(movieId=183437, rating=4.258966445922852)]),\n",
              " Row(userId=30000, recommendations=[Row(movieId=170705, rating=5.435658931732178), Row(movieId=318, rating=5.430479049682617), Row(movieId=171011, rating=5.401602268218994), Row(movieId=159817, rating=5.331978797912598), Row(movieId=174053, rating=5.328990936279297)]),\n",
              " Row(userId=40001, recommendations=[Row(movieId=120311, rating=4.712996959686279), Row(movieId=318, rating=4.662691116333008), Row(movieId=93404, rating=4.6384429931640625), Row(movieId=104072, rating=4.616791725158691), Row(movieId=170705, rating=4.599355697631836)]),\n",
              " Row(userId=50001, recommendations=[Row(movieId=137904, rating=5.174074172973633), Row(movieId=86237, rating=5.169423580169678), Row(movieId=171011, rating=5.142962455749512), Row(movieId=159817, rating=5.140075206756592), Row(movieId=159819, rating=5.125608444213867)])]"
            ]
          },
          "metadata": {},
          "execution_count": 14
        }
      ],
      "metadata": {}
    },
    {
      "cell_type": "code",
      "execution_count": 17,
      "source": [
        "movies = pd.read_csv(\"Data Cleaning/movies.csv\",index_col=0)\r\n",
        "rec_df=recommendations.toPandas()\r\n",
        "rec_df.head()"
      ],
      "outputs": [
        {
          "output_type": "execute_result",
          "data": {
            "text/html": [
              "<div>\n",
              "<style scoped>\n",
              "    .dataframe tbody tr th:only-of-type {\n",
              "        vertical-align: middle;\n",
              "    }\n",
              "\n",
              "    .dataframe tbody tr th {\n",
              "        vertical-align: top;\n",
              "    }\n",
              "\n",
              "    .dataframe thead th {\n",
              "        text-align: right;\n",
              "    }\n",
              "</style>\n",
              "<table border=\"1\" class=\"dataframe\">\n",
              "  <thead>\n",
              "    <tr style=\"text-align: right;\">\n",
              "      <th></th>\n",
              "      <th>userId</th>\n",
              "      <th>recommendations</th>\n",
              "    </tr>\n",
              "  </thead>\n",
              "  <tbody>\n",
              "    <tr>\n",
              "      <th>0</th>\n",
              "      <td>60001</td>\n",
              "      <td>[(72035, 4.29457426071167), (70186, 4.29185390...</td>\n",
              "    </tr>\n",
              "    <tr>\n",
              "      <th>1</th>\n",
              "      <td>30000</td>\n",
              "      <td>[(170705, 5.435658931732178), (318, 5.43047904...</td>\n",
              "    </tr>\n",
              "    <tr>\n",
              "      <th>2</th>\n",
              "      <td>40001</td>\n",
              "      <td>[(120311, 4.712996959686279), (318, 4.66269111...</td>\n",
              "    </tr>\n",
              "    <tr>\n",
              "      <th>3</th>\n",
              "      <td>50001</td>\n",
              "      <td>[(137904, 5.174074172973633), (86237, 5.169423...</td>\n",
              "    </tr>\n",
              "  </tbody>\n",
              "</table>\n",
              "</div>"
            ],
            "text/plain": [
              "   userId                                    recommendations\n",
              "0   60001  [(72035, 4.29457426071167), (70186, 4.29185390...\n",
              "1   30000  [(170705, 5.435658931732178), (318, 5.43047904...\n",
              "2   40001  [(120311, 4.712996959686279), (318, 4.66269111...\n",
              "3   50001  [(137904, 5.174074172973633), (86237, 5.169423..."
            ]
          },
          "metadata": {},
          "execution_count": 17
        }
      ],
      "metadata": {}
    },
    {
      "cell_type": "code",
      "execution_count": 19,
      "source": [
        "usuarios=['Bryan','Juan Pablo','Matías','Ignacio']\r\n",
        "for a in range(len(rec_df)):\r\n",
        "  print('We recommend',usuarios[a])\r\n",
        "  for b in range(n):\r\n",
        "    print('With an expected rate of ',round(rec_df['recommendations'][a][b][1],2),', to see the movie:',movies['title'][rec_df['recommendations'][a][b][0]])\r\n",
        "  print()"
      ],
      "outputs": [
        {
          "output_type": "stream",
          "name": "stdout",
          "text": [
            "We recommend Bryan\n",
            "With an expected rate of  4.29 , to see the movie: Dimensions of Dialogue (Moznosti dialogu) (1982)\n",
            "With an expected rate of  4.29 , to see the movie: Heimat - A Chronicle of Germany (Heimat - Eine deutsche Chronik) (1984)\n",
            "With an expected rate of  4.27 , to see the movie: Louis Theroux: Law & Disorder (2008)\n",
            "With an expected rate of  4.26 , to see the movie: Music for One Apartment and Six Drummers (2001)\n",
            "With an expected rate of  4.26 , to see the movie: World of Tomorrow Episode Two: The Burden of Other People's Thoughts (2017)\n",
            "\n",
            "We recommend Juan Pablo\n",
            "With an expected rate of  5.44 , to see the movie: Band of Brothers (2001)\n",
            "With an expected rate of  5.43 , to see the movie: Shawshank Redemption, The (1994)\n",
            "With an expected rate of  5.4 , to see the movie: Planet Earth II (2016)\n",
            "With an expected rate of  5.33 , to see the movie: Planet Earth (2006)\n",
            "With an expected rate of  5.33 , to see the movie: Black Mirror: White Christmas (2014)\n",
            "\n",
            "We recommend Matías\n",
            "With an expected rate of  4.71 , to see the movie: Drishyam (2013)\n",
            "With an expected rate of  4.66 , to see the movie: Shawshank Redemption, The (1994)\n",
            "With an expected rate of  4.64 , to see the movie: Queen: Days of Our Lives (2011)\n",
            "With an expected rate of  4.62 , to see the movie: The Count of Monte Cristo (1998)\n",
            "With an expected rate of  4.6 , to see the movie: Band of Brothers (2001)\n",
            "\n",
            "We recommend Ignacio\n",
            "With an expected rate of  5.17 , to see the movie: I, Claudius (1976)\n",
            "With an expected rate of  5.17 , to see the movie: Connections (1978)\n",
            "With an expected rate of  5.14 , to see the movie: Planet Earth II (2016)\n",
            "With an expected rate of  5.14 , to see the movie: Planet Earth (2006)\n",
            "With an expected rate of  5.13 , to see the movie: Life (2009)\n",
            "\n"
          ]
        }
      ],
      "metadata": {
        "id": "SxZO6yjgipH7",
        "colab": {
          "base_uri": "https://localhost:8080/"
        },
        "outputId": "326a8978-5b81-4998-f96f-eda6a813f39c"
      }
    },
    {
      "cell_type": "markdown",
      "source": [
        "# Algoritmo 3 Machine Learning: KNN\r\n",
        "\r\n"
      ],
      "metadata": {
        "id": "DK4w-qXei-Om"
      }
    },
    {
      "cell_type": "markdown",
      "source": [
        "## Librería"
      ],
      "metadata": {
        "id": "8mdcOrT-qa3Q"
      }
    },
    {
      "cell_type": "code",
      "execution_count": null,
      "source": [
        "from sklearn.neighbors import NearestNeighbors"
      ],
      "outputs": [],
      "metadata": {
        "id": "4c4nDwubTPaX"
      }
    },
    {
      "cell_type": "markdown",
      "source": [
        "## Importar Data"
      ],
      "metadata": {
        "id": "fQu7u7rEqhNj"
      }
    },
    {
      "cell_type": "code",
      "execution_count": null,
      "source": [
        "data=df[['userId','movieId','rating']][1000000:17000000]\r\n",
        "df_features=data.pivot_table(index='movieId',columns='userId',values='rating').fillna(0)\r\n",
        "df_features"
      ],
      "outputs": [
        {
          "output_type": "execute_result",
          "data": {
            "text/html": [
              "<div>\n",
              "<style scoped>\n",
              "    .dataframe tbody tr th:only-of-type {\n",
              "        vertical-align: middle;\n",
              "    }\n",
              "\n",
              "    .dataframe tbody tr th {\n",
              "        vertical-align: top;\n",
              "    }\n",
              "\n",
              "    .dataframe thead th {\n",
              "        text-align: right;\n",
              "    }\n",
              "</style>\n",
              "<table border=\"1\" class=\"dataframe\">\n",
              "  <thead>\n",
              "    <tr style=\"text-align: right;\">\n",
              "      <th>userId</th>\n",
              "      <th>1</th>\n",
              "      <th>2</th>\n",
              "      <th>4</th>\n",
              "      <th>5</th>\n",
              "      <th>6</th>\n",
              "      <th>8</th>\n",
              "      <th>10</th>\n",
              "      <th>11</th>\n",
              "      <th>12</th>\n",
              "      <th>13</th>\n",
              "      <th>...</th>\n",
              "      <th>283215</th>\n",
              "      <th>283217</th>\n",
              "      <th>283219</th>\n",
              "      <th>283220</th>\n",
              "      <th>283221</th>\n",
              "      <th>283222</th>\n",
              "      <th>283224</th>\n",
              "      <th>283225</th>\n",
              "      <th>283227</th>\n",
              "      <th>283228</th>\n",
              "    </tr>\n",
              "    <tr>\n",
              "      <th>movieId</th>\n",
              "      <th></th>\n",
              "      <th></th>\n",
              "      <th></th>\n",
              "      <th></th>\n",
              "      <th></th>\n",
              "      <th></th>\n",
              "      <th></th>\n",
              "      <th></th>\n",
              "      <th></th>\n",
              "      <th></th>\n",
              "      <th></th>\n",
              "      <th></th>\n",
              "      <th></th>\n",
              "      <th></th>\n",
              "      <th></th>\n",
              "      <th></th>\n",
              "      <th></th>\n",
              "      <th></th>\n",
              "      <th></th>\n",
              "      <th></th>\n",
              "      <th></th>\n",
              "    </tr>\n",
              "  </thead>\n",
              "  <tbody>\n",
              "    <tr>\n",
              "      <th>140</th>\n",
              "      <td>0.0</td>\n",
              "      <td>0.0</td>\n",
              "      <td>0.0</td>\n",
              "      <td>0.0</td>\n",
              "      <td>0.0</td>\n",
              "      <td>0.0</td>\n",
              "      <td>0.0</td>\n",
              "      <td>0.0</td>\n",
              "      <td>0.0</td>\n",
              "      <td>0.0</td>\n",
              "      <td>...</td>\n",
              "      <td>0.0</td>\n",
              "      <td>0.0</td>\n",
              "      <td>0.0</td>\n",
              "      <td>0.0</td>\n",
              "      <td>0.0</td>\n",
              "      <td>0.0</td>\n",
              "      <td>0.0</td>\n",
              "      <td>0.0</td>\n",
              "      <td>0.0</td>\n",
              "      <td>0.0</td>\n",
              "    </tr>\n",
              "    <tr>\n",
              "      <th>141</th>\n",
              "      <td>0.0</td>\n",
              "      <td>0.0</td>\n",
              "      <td>4.5</td>\n",
              "      <td>0.0</td>\n",
              "      <td>5.0</td>\n",
              "      <td>5.0</td>\n",
              "      <td>0.0</td>\n",
              "      <td>0.0</td>\n",
              "      <td>0.0</td>\n",
              "      <td>0.0</td>\n",
              "      <td>...</td>\n",
              "      <td>3.0</td>\n",
              "      <td>0.0</td>\n",
              "      <td>0.0</td>\n",
              "      <td>0.0</td>\n",
              "      <td>0.0</td>\n",
              "      <td>0.0</td>\n",
              "      <td>4.0</td>\n",
              "      <td>0.0</td>\n",
              "      <td>0.0</td>\n",
              "      <td>0.0</td>\n",
              "    </tr>\n",
              "    <tr>\n",
              "      <th>142</th>\n",
              "      <td>0.0</td>\n",
              "      <td>0.0</td>\n",
              "      <td>0.0</td>\n",
              "      <td>0.0</td>\n",
              "      <td>0.0</td>\n",
              "      <td>0.0</td>\n",
              "      <td>0.0</td>\n",
              "      <td>0.0</td>\n",
              "      <td>0.0</td>\n",
              "      <td>0.0</td>\n",
              "      <td>...</td>\n",
              "      <td>0.0</td>\n",
              "      <td>0.0</td>\n",
              "      <td>0.0</td>\n",
              "      <td>0.0</td>\n",
              "      <td>0.0</td>\n",
              "      <td>0.0</td>\n",
              "      <td>0.0</td>\n",
              "      <td>0.0</td>\n",
              "      <td>0.0</td>\n",
              "      <td>0.0</td>\n",
              "    </tr>\n",
              "    <tr>\n",
              "      <th>144</th>\n",
              "      <td>0.0</td>\n",
              "      <td>0.0</td>\n",
              "      <td>0.0</td>\n",
              "      <td>0.0</td>\n",
              "      <td>0.0</td>\n",
              "      <td>0.0</td>\n",
              "      <td>0.0</td>\n",
              "      <td>0.0</td>\n",
              "      <td>0.0</td>\n",
              "      <td>0.0</td>\n",
              "      <td>...</td>\n",
              "      <td>0.0</td>\n",
              "      <td>0.0</td>\n",
              "      <td>0.0</td>\n",
              "      <td>0.0</td>\n",
              "      <td>0.0</td>\n",
              "      <td>0.0</td>\n",
              "      <td>0.0</td>\n",
              "      <td>0.0</td>\n",
              "      <td>0.0</td>\n",
              "      <td>0.0</td>\n",
              "    </tr>\n",
              "    <tr>\n",
              "      <th>145</th>\n",
              "      <td>0.0</td>\n",
              "      <td>0.0</td>\n",
              "      <td>4.0</td>\n",
              "      <td>0.0</td>\n",
              "      <td>0.0</td>\n",
              "      <td>0.0</td>\n",
              "      <td>0.0</td>\n",
              "      <td>0.0</td>\n",
              "      <td>0.0</td>\n",
              "      <td>0.0</td>\n",
              "      <td>...</td>\n",
              "      <td>0.0</td>\n",
              "      <td>0.0</td>\n",
              "      <td>0.0</td>\n",
              "      <td>0.0</td>\n",
              "      <td>0.0</td>\n",
              "      <td>0.0</td>\n",
              "      <td>4.0</td>\n",
              "      <td>0.0</td>\n",
              "      <td>0.0</td>\n",
              "      <td>0.0</td>\n",
              "    </tr>\n",
              "    <tr>\n",
              "      <th>...</th>\n",
              "      <td>...</td>\n",
              "      <td>...</td>\n",
              "      <td>...</td>\n",
              "      <td>...</td>\n",
              "      <td>...</td>\n",
              "      <td>...</td>\n",
              "      <td>...</td>\n",
              "      <td>...</td>\n",
              "      <td>...</td>\n",
              "      <td>...</td>\n",
              "      <td>...</td>\n",
              "      <td>...</td>\n",
              "      <td>...</td>\n",
              "      <td>...</td>\n",
              "      <td>...</td>\n",
              "      <td>...</td>\n",
              "      <td>...</td>\n",
              "      <td>...</td>\n",
              "      <td>...</td>\n",
              "      <td>...</td>\n",
              "      <td>...</td>\n",
              "    </tr>\n",
              "    <tr>\n",
              "      <th>37855</th>\n",
              "      <td>0.0</td>\n",
              "      <td>0.0</td>\n",
              "      <td>0.0</td>\n",
              "      <td>0.0</td>\n",
              "      <td>0.0</td>\n",
              "      <td>0.0</td>\n",
              "      <td>0.0</td>\n",
              "      <td>0.0</td>\n",
              "      <td>0.0</td>\n",
              "      <td>0.0</td>\n",
              "      <td>...</td>\n",
              "      <td>0.0</td>\n",
              "      <td>0.0</td>\n",
              "      <td>0.0</td>\n",
              "      <td>0.0</td>\n",
              "      <td>0.0</td>\n",
              "      <td>0.0</td>\n",
              "      <td>0.0</td>\n",
              "      <td>0.0</td>\n",
              "      <td>0.0</td>\n",
              "      <td>0.0</td>\n",
              "    </tr>\n",
              "    <tr>\n",
              "      <th>37857</th>\n",
              "      <td>0.0</td>\n",
              "      <td>0.0</td>\n",
              "      <td>0.0</td>\n",
              "      <td>0.0</td>\n",
              "      <td>0.0</td>\n",
              "      <td>0.0</td>\n",
              "      <td>0.0</td>\n",
              "      <td>0.0</td>\n",
              "      <td>0.0</td>\n",
              "      <td>0.0</td>\n",
              "      <td>...</td>\n",
              "      <td>0.0</td>\n",
              "      <td>0.0</td>\n",
              "      <td>0.0</td>\n",
              "      <td>0.0</td>\n",
              "      <td>0.0</td>\n",
              "      <td>0.0</td>\n",
              "      <td>0.0</td>\n",
              "      <td>0.0</td>\n",
              "      <td>0.0</td>\n",
              "      <td>0.0</td>\n",
              "    </tr>\n",
              "    <tr>\n",
              "      <th>37955</th>\n",
              "      <td>0.0</td>\n",
              "      <td>0.0</td>\n",
              "      <td>0.0</td>\n",
              "      <td>0.0</td>\n",
              "      <td>0.0</td>\n",
              "      <td>0.0</td>\n",
              "      <td>0.0</td>\n",
              "      <td>0.0</td>\n",
              "      <td>0.0</td>\n",
              "      <td>0.0</td>\n",
              "      <td>...</td>\n",
              "      <td>0.0</td>\n",
              "      <td>0.0</td>\n",
              "      <td>0.0</td>\n",
              "      <td>0.0</td>\n",
              "      <td>0.0</td>\n",
              "      <td>0.0</td>\n",
              "      <td>0.0</td>\n",
              "      <td>0.0</td>\n",
              "      <td>0.0</td>\n",
              "      <td>0.0</td>\n",
              "    </tr>\n",
              "    <tr>\n",
              "      <th>37957</th>\n",
              "      <td>0.0</td>\n",
              "      <td>0.0</td>\n",
              "      <td>0.0</td>\n",
              "      <td>0.0</td>\n",
              "      <td>0.0</td>\n",
              "      <td>0.0</td>\n",
              "      <td>0.0</td>\n",
              "      <td>0.0</td>\n",
              "      <td>0.0</td>\n",
              "      <td>0.0</td>\n",
              "      <td>...</td>\n",
              "      <td>0.0</td>\n",
              "      <td>0.0</td>\n",
              "      <td>0.0</td>\n",
              "      <td>0.0</td>\n",
              "      <td>0.0</td>\n",
              "      <td>0.0</td>\n",
              "      <td>0.0</td>\n",
              "      <td>0.0</td>\n",
              "      <td>0.0</td>\n",
              "      <td>0.0</td>\n",
              "    </tr>\n",
              "    <tr>\n",
              "      <th>38038</th>\n",
              "      <td>0.0</td>\n",
              "      <td>0.0</td>\n",
              "      <td>0.0</td>\n",
              "      <td>0.0</td>\n",
              "      <td>0.0</td>\n",
              "      <td>0.0</td>\n",
              "      <td>0.0</td>\n",
              "      <td>0.0</td>\n",
              "      <td>0.0</td>\n",
              "      <td>0.0</td>\n",
              "      <td>...</td>\n",
              "      <td>0.0</td>\n",
              "      <td>0.0</td>\n",
              "      <td>0.0</td>\n",
              "      <td>0.0</td>\n",
              "      <td>0.0</td>\n",
              "      <td>0.0</td>\n",
              "      <td>0.0</td>\n",
              "      <td>0.0</td>\n",
              "      <td>0.0</td>\n",
              "      <td>0.0</td>\n",
              "    </tr>\n",
              "  </tbody>\n",
              "</table>\n",
              "<p>4743 rows × 202407 columns</p>\n",
              "</div>"
            ],
            "text/plain": [
              "userId   1       2       4       5       6       8       10      11      \\\n",
              "movieId                                                                   \n",
              "140         0.0     0.0     0.0     0.0     0.0     0.0     0.0     0.0   \n",
              "141         0.0     0.0     4.5     0.0     5.0     5.0     0.0     0.0   \n",
              "142         0.0     0.0     0.0     0.0     0.0     0.0     0.0     0.0   \n",
              "144         0.0     0.0     0.0     0.0     0.0     0.0     0.0     0.0   \n",
              "145         0.0     0.0     4.0     0.0     0.0     0.0     0.0     0.0   \n",
              "...         ...     ...     ...     ...     ...     ...     ...     ...   \n",
              "37855       0.0     0.0     0.0     0.0     0.0     0.0     0.0     0.0   \n",
              "37857       0.0     0.0     0.0     0.0     0.0     0.0     0.0     0.0   \n",
              "37955       0.0     0.0     0.0     0.0     0.0     0.0     0.0     0.0   \n",
              "37957       0.0     0.0     0.0     0.0     0.0     0.0     0.0     0.0   \n",
              "38038       0.0     0.0     0.0     0.0     0.0     0.0     0.0     0.0   \n",
              "\n",
              "userId   12      13      ...  283215  283217  283219  283220  283221  283222  \\\n",
              "movieId                  ...                                                   \n",
              "140         0.0     0.0  ...     0.0     0.0     0.0     0.0     0.0     0.0   \n",
              "141         0.0     0.0  ...     3.0     0.0     0.0     0.0     0.0     0.0   \n",
              "142         0.0     0.0  ...     0.0     0.0     0.0     0.0     0.0     0.0   \n",
              "144         0.0     0.0  ...     0.0     0.0     0.0     0.0     0.0     0.0   \n",
              "145         0.0     0.0  ...     0.0     0.0     0.0     0.0     0.0     0.0   \n",
              "...         ...     ...  ...     ...     ...     ...     ...     ...     ...   \n",
              "37855       0.0     0.0  ...     0.0     0.0     0.0     0.0     0.0     0.0   \n",
              "37857       0.0     0.0  ...     0.0     0.0     0.0     0.0     0.0     0.0   \n",
              "37955       0.0     0.0  ...     0.0     0.0     0.0     0.0     0.0     0.0   \n",
              "37957       0.0     0.0  ...     0.0     0.0     0.0     0.0     0.0     0.0   \n",
              "38038       0.0     0.0  ...     0.0     0.0     0.0     0.0     0.0     0.0   \n",
              "\n",
              "userId   283224  283225  283227  283228  \n",
              "movieId                                  \n",
              "140         0.0     0.0     0.0     0.0  \n",
              "141         4.0     0.0     0.0     0.0  \n",
              "142         0.0     0.0     0.0     0.0  \n",
              "144         0.0     0.0     0.0     0.0  \n",
              "145         4.0     0.0     0.0     0.0  \n",
              "...         ...     ...     ...     ...  \n",
              "37855       0.0     0.0     0.0     0.0  \n",
              "37857       0.0     0.0     0.0     0.0  \n",
              "37955       0.0     0.0     0.0     0.0  \n",
              "37957       0.0     0.0     0.0     0.0  \n",
              "38038       0.0     0.0     0.0     0.0  \n",
              "\n",
              "[4743 rows x 202407 columns]"
            ]
          },
          "metadata": {},
          "execution_count": 37
        }
      ],
      "metadata": {
        "colab": {
          "base_uri": "https://localhost:8080/",
          "height": 455
        },
        "id": "w8QuvfiBPpce",
        "outputId": "b6df7b53-eae2-45a1-e7aa-ba4f2043f683"
      }
    },
    {
      "cell_type": "markdown",
      "source": [
        "## Entrenar el modelo"
      ],
      "metadata": {
        "id": "0Z8yLyZ7ql6t"
      }
    },
    {
      "cell_type": "code",
      "execution_count": null,
      "source": [
        "nbrs = NearestNeighbors(n_neighbors=5, algorithm='ball_tree').fit(df_features)"
      ],
      "outputs": [],
      "metadata": {
        "id": "eh31ZVJYIlRi"
      }
    },
    {
      "cell_type": "markdown",
      "source": [
        "## Probar el modelo"
      ],
      "metadata": {
        "id": "m1YSove8qo10"
      }
    },
    {
      "cell_type": "code",
      "execution_count": null,
      "source": [
        "query_index = np.random.choice(df_features.index)\r\n",
        "#query_index=152017\r\n",
        "#print(query_index)"
      ],
      "outputs": [],
      "metadata": {
        "colab": {
          "base_uri": "https://localhost:8080/"
        },
        "id": "xgwlzZzQU9p_",
        "outputId": "0674def4-a19b-4c5a-b856-665db182d1aa"
      }
    },
    {
      "cell_type": "code",
      "execution_count": null,
      "source": [
        "distances, indices = nbrs.kneighbors(df_features.loc[query_index,:].values.reshape(1, -1), n_neighbors = 6)"
      ],
      "outputs": [],
      "metadata": {
        "id": "7IXRO9ddP7BN"
      }
    },
    {
      "cell_type": "code",
      "execution_count": null,
      "source": [
        "print(indices)"
      ],
      "outputs": [
        {
          "output_type": "stream",
          "name": "stdout",
          "text": [
            "[[2257 4563 1338 4113 3761 4168]]\n"
          ]
        }
      ],
      "metadata": {
        "id": "6CugbX_LEOFZ",
        "colab": {
          "base_uri": "https://localhost:8080/"
        },
        "outputId": "687c816d-9ec9-4dcb-90d3-6f1babad15b1"
      }
    },
    {
      "cell_type": "code",
      "execution_count": null,
      "source": [
        "print(distances)"
      ],
      "outputs": [
        {
          "output_type": "stream",
          "name": "stdout",
          "text": [
            "[[ 0.         38.37968212 38.56812155 38.63935817 38.64259308 38.64259308]]\n"
          ]
        }
      ],
      "metadata": {
        "id": "BzkVU1kjEOeu",
        "colab": {
          "base_uri": "https://localhost:8080/"
        },
        "outputId": "50d6bea7-e6ba-44c6-9bc7-a40346677e01"
      }
    },
    {
      "cell_type": "markdown",
      "source": [
        "## Generar recomendaciones a partir de una película"
      ],
      "metadata": {
        "id": "0j-H6XAyqvVD"
      }
    },
    {
      "cell_type": "code",
      "execution_count": null,
      "source": [
        "movies = pd.read_csv(\"Data Cleaning/movies.csv\",index_col=0)\r\n",
        "for i in range(len(indices.flatten())):\r\n",
        "    if i == 0:\r\n",
        "        print('Recomendación para {0}:\\n'.format(movies['title'][query_index]))\r\n",
        "    else:\r\n",
        "        print('{0}: {1}, con una distancia de {2}:'.format(i,movies['title'][df_features.index[indices.flatten()[i]]], distances.flatten()[i]))"
      ],
      "outputs": [
        {
          "output_type": "stream",
          "name": "stdout",
          "text": [
            "Recomendación para Alaska: Spirit of the Wild (1997):\n",
            "\n",
            "1: Islands in the Stream (1977), con una distancia de 38.379682124790975:\n",
            "2: Jeanne and the Perfect Guy (Jeanne et le garçon formidable) (1998), con una distancia de 38.568121551353784:\n",
            "3: Heaven Help Us (1985), con una distancia de 38.63935817272331:\n",
            "4: Deranged (1974), con una distancia de 38.642593080692706:\n",
            "5: Light Sleeper (1992), con una distancia de 38.642593080692706:\n"
          ]
        }
      ],
      "metadata": {
        "id": "vovdnUxtEOim",
        "colab": {
          "base_uri": "https://localhost:8080/"
        },
        "outputId": "4835a9bd-9f6b-4a59-de09-9bd17d1a1c9f"
      }
    },
    {
      "cell_type": "markdown",
      "source": [
        "# Algoritmo 4 Machine Learning: Colaborative Filtering\n"
      ],
      "metadata": {
        "id": "JlICh5uQEQSk"
      }
    },
    {
      "cell_type": "code",
      "execution_count": null,
      "source": [
        "#pip install surprise"
      ],
      "outputs": [],
      "metadata": {
        "id": "jHuVuEJNEVsE"
      }
    },
    {
      "cell_type": "markdown",
      "source": [
        "## Líbrerias Surprise"
      ],
      "metadata": {
        "id": "R6x8hK6Aq4sD"
      }
    },
    {
      "cell_type": "code",
      "execution_count": 3,
      "source": [
        "from surprise import dataset,Reader\r\n",
        "from surprise.model_selection import train_test_split\r\n",
        "from surprise import SVD\r\n",
        "from surprise import accuracy\r\n",
        "reader = Reader(line_format='user item rating', rating_scale=(1, 5))\r\n",
        "df_sur=df[['userId','movieId','rating']]"
      ],
      "outputs": [],
      "metadata": {
        "id": "UgULyPuJVs3h"
      }
    },
    {
      "cell_type": "markdown",
      "source": [
        "## Generar Dataset"
      ],
      "metadata": {
        "id": "zEfM65_yq9-S"
      }
    },
    {
      "cell_type": "code",
      "execution_count": 4,
      "source": [
        "class MyDataset(dataset.DatasetAutoFolds):\r\n",
        "\r\n",
        "    def __init__(self, df, reader):\r\n",
        "\r\n",
        "        self.raw_ratings = [(uid, iid, r, None) for (uid, iid, r) in\r\n",
        "                            zip(df['userId'], df['movieId'], df['rating'])]\r\n",
        "        self.reader=reader\r\n",
        "data = MyDataset(df_sur, reader)\r\n",
        "trainset, testset = train_test_split(data, test_size=.20)"
      ],
      "outputs": [],
      "metadata": {
        "id": "6oE0F3UgC0aq"
      }
    },
    {
      "cell_type": "markdown",
      "source": [
        "## Entrenar Modelo"
      ],
      "metadata": {
        "id": "y8z78YoMrDE8"
      }
    },
    {
      "cell_type": "code",
      "execution_count": 5,
      "source": [
        "model = SVD()\r\n",
        "model.fit(trainset)\r\n",
        "predictions = model.test(testset)"
      ],
      "outputs": [],
      "metadata": {
        "id": "NYvWmqr8C2xl"
      }
    },
    {
      "cell_type": "markdown",
      "source": [
        "## Métricas Modelo"
      ],
      "metadata": {
        "id": "XNHs0aE7rIBc"
      }
    },
    {
      "cell_type": "code",
      "execution_count": 6,
      "source": [
        "accuracy.rmse(predictions)"
      ],
      "outputs": [
        {
          "output_type": "stream",
          "name": "stdout",
          "text": [
            "RMSE: 0.7814\n"
          ]
        },
        {
          "output_type": "execute_result",
          "data": {
            "text/plain": [
              "0.781417205911539"
            ]
          },
          "metadata": {},
          "execution_count": 6
        }
      ],
      "metadata": {
        "id": "EVmkSGUaC4qt",
        "colab": {
          "base_uri": "https://localhost:8080/"
        },
        "outputId": "5f71a9d1-c7c5-4635-82fe-79a9a88f1fe8"
      }
    },
    {
      "cell_type": "markdown",
      "source": [
        "## Probar Modelo"
      ],
      "metadata": {
        "id": "w0aCaeJfrF8z"
      }
    },
    {
      "cell_type": "code",
      "execution_count": 7,
      "source": [
        "user = str(196)  \r\n",
        "item = str(303)  \r\n",
        "\r\n",
        "pred = model.predict(user, item, verbose=True)"
      ],
      "outputs": [
        {
          "output_type": "stream",
          "name": "stdout",
          "text": [
            "user: 196        item: 303        r_ui = None   est = 3.65   {'was_impossible': False}\n"
          ]
        }
      ],
      "metadata": {
        "id": "AXTWObzcC43R",
        "colab": {
          "base_uri": "https://localhost:8080/"
        },
        "outputId": "240e8433-ed7b-4b2f-f0af-93ef30005922"
      }
    },
    {
      "cell_type": "markdown",
      "source": [
        "# **Algorithm 4: Machine Learning Neural Collaborative Filtering (NCF)**"
      ],
      "metadata": {}
    },
    {
      "cell_type": "code",
      "execution_count": 3,
      "source": [
        "# keras/tensorflow imports\r\n",
        "import tensorflow as tf\r\n",
        "from tensorflow import keras\r\n",
        "from tensorflow.keras import layers"
      ],
      "outputs": [],
      "metadata": {}
    },
    {
      "cell_type": "code",
      "execution_count": 4,
      "source": [
        "df.head()\r\n",
        "#https://keras.io/examples/structured_data/collaborative_filtering_movielens/"
      ],
      "outputs": [
        {
          "output_type": "execute_result",
          "data": {
            "text/html": [
              "<div>\n",
              "<style scoped>\n",
              "    .dataframe tbody tr th:only-of-type {\n",
              "        vertical-align: middle;\n",
              "    }\n",
              "\n",
              "    .dataframe tbody tr th {\n",
              "        vertical-align: top;\n",
              "    }\n",
              "\n",
              "    .dataframe thead th {\n",
              "        text-align: right;\n",
              "    }\n",
              "</style>\n",
              "<table border=\"1\" class=\"dataframe\">\n",
              "  <thead>\n",
              "    <tr style=\"text-align: right;\">\n",
              "      <th></th>\n",
              "      <th>Unnamed: 0</th>\n",
              "      <th>movieId</th>\n",
              "      <th>title</th>\n",
              "      <th>year</th>\n",
              "      <th>Musical</th>\n",
              "      <th>(no genres listed)</th>\n",
              "      <th>Horror</th>\n",
              "      <th>War</th>\n",
              "      <th>Mystery</th>\n",
              "      <th>Western</th>\n",
              "      <th>...</th>\n",
              "      <th>Fantasy</th>\n",
              "      <th>Children</th>\n",
              "      <th>Romance</th>\n",
              "      <th>Adventure</th>\n",
              "      <th>Sci-Fi</th>\n",
              "      <th>Crime</th>\n",
              "      <th>Documentary</th>\n",
              "      <th>IMAX</th>\n",
              "      <th>userId</th>\n",
              "      <th>rating</th>\n",
              "    </tr>\n",
              "  </thead>\n",
              "  <tbody>\n",
              "    <tr>\n",
              "      <th>0</th>\n",
              "      <td>0</td>\n",
              "      <td>1</td>\n",
              "      <td>Toy Story (1995)</td>\n",
              "      <td>1995</td>\n",
              "      <td>0</td>\n",
              "      <td>0</td>\n",
              "      <td>0</td>\n",
              "      <td>0</td>\n",
              "      <td>0</td>\n",
              "      <td>0</td>\n",
              "      <td>...</td>\n",
              "      <td>1</td>\n",
              "      <td>1</td>\n",
              "      <td>0</td>\n",
              "      <td>1</td>\n",
              "      <td>0</td>\n",
              "      <td>0</td>\n",
              "      <td>0</td>\n",
              "      <td>0</td>\n",
              "      <td>4</td>\n",
              "      <td>4.0</td>\n",
              "    </tr>\n",
              "    <tr>\n",
              "      <th>1</th>\n",
              "      <td>1</td>\n",
              "      <td>1</td>\n",
              "      <td>Toy Story (1995)</td>\n",
              "      <td>1995</td>\n",
              "      <td>0</td>\n",
              "      <td>0</td>\n",
              "      <td>0</td>\n",
              "      <td>0</td>\n",
              "      <td>0</td>\n",
              "      <td>0</td>\n",
              "      <td>...</td>\n",
              "      <td>1</td>\n",
              "      <td>1</td>\n",
              "      <td>0</td>\n",
              "      <td>1</td>\n",
              "      <td>0</td>\n",
              "      <td>0</td>\n",
              "      <td>0</td>\n",
              "      <td>0</td>\n",
              "      <td>10</td>\n",
              "      <td>5.0</td>\n",
              "    </tr>\n",
              "    <tr>\n",
              "      <th>2</th>\n",
              "      <td>2</td>\n",
              "      <td>1</td>\n",
              "      <td>Toy Story (1995)</td>\n",
              "      <td>1995</td>\n",
              "      <td>0</td>\n",
              "      <td>0</td>\n",
              "      <td>0</td>\n",
              "      <td>0</td>\n",
              "      <td>0</td>\n",
              "      <td>0</td>\n",
              "      <td>...</td>\n",
              "      <td>1</td>\n",
              "      <td>1</td>\n",
              "      <td>0</td>\n",
              "      <td>1</td>\n",
              "      <td>0</td>\n",
              "      <td>0</td>\n",
              "      <td>0</td>\n",
              "      <td>0</td>\n",
              "      <td>14</td>\n",
              "      <td>4.5</td>\n",
              "    </tr>\n",
              "    <tr>\n",
              "      <th>3</th>\n",
              "      <td>3</td>\n",
              "      <td>1</td>\n",
              "      <td>Toy Story (1995)</td>\n",
              "      <td>1995</td>\n",
              "      <td>0</td>\n",
              "      <td>0</td>\n",
              "      <td>0</td>\n",
              "      <td>0</td>\n",
              "      <td>0</td>\n",
              "      <td>0</td>\n",
              "      <td>...</td>\n",
              "      <td>1</td>\n",
              "      <td>1</td>\n",
              "      <td>0</td>\n",
              "      <td>1</td>\n",
              "      <td>0</td>\n",
              "      <td>0</td>\n",
              "      <td>0</td>\n",
              "      <td>0</td>\n",
              "      <td>15</td>\n",
              "      <td>4.0</td>\n",
              "    </tr>\n",
              "    <tr>\n",
              "      <th>4</th>\n",
              "      <td>4</td>\n",
              "      <td>1</td>\n",
              "      <td>Toy Story (1995)</td>\n",
              "      <td>1995</td>\n",
              "      <td>0</td>\n",
              "      <td>0</td>\n",
              "      <td>0</td>\n",
              "      <td>0</td>\n",
              "      <td>0</td>\n",
              "      <td>0</td>\n",
              "      <td>...</td>\n",
              "      <td>1</td>\n",
              "      <td>1</td>\n",
              "      <td>0</td>\n",
              "      <td>1</td>\n",
              "      <td>0</td>\n",
              "      <td>0</td>\n",
              "      <td>0</td>\n",
              "      <td>0</td>\n",
              "      <td>22</td>\n",
              "      <td>4.0</td>\n",
              "    </tr>\n",
              "  </tbody>\n",
              "</table>\n",
              "<p>5 rows × 26 columns</p>\n",
              "</div>"
            ],
            "text/plain": [
              "   Unnamed: 0  movieId             title  year  Musical  (no genres listed)  \\\n",
              "0           0        1  Toy Story (1995)  1995        0                   0   \n",
              "1           1        1  Toy Story (1995)  1995        0                   0   \n",
              "2           2        1  Toy Story (1995)  1995        0                   0   \n",
              "3           3        1  Toy Story (1995)  1995        0                   0   \n",
              "4           4        1  Toy Story (1995)  1995        0                   0   \n",
              "\n",
              "   Horror  War  Mystery  Western  ...  Fantasy  Children  Romance  Adventure  \\\n",
              "0       0    0        0        0  ...        1         1        0          1   \n",
              "1       0    0        0        0  ...        1         1        0          1   \n",
              "2       0    0        0        0  ...        1         1        0          1   \n",
              "3       0    0        0        0  ...        1         1        0          1   \n",
              "4       0    0        0        0  ...        1         1        0          1   \n",
              "\n",
              "   Sci-Fi  Crime  Documentary  IMAX  userId  rating  \n",
              "0       0      0            0     0       4     4.0  \n",
              "1       0      0            0     0      10     5.0  \n",
              "2       0      0            0     0      14     4.5  \n",
              "3       0      0            0     0      15     4.0  \n",
              "4       0      0            0     0      22     4.0  \n",
              "\n",
              "[5 rows x 26 columns]"
            ]
          },
          "metadata": {},
          "execution_count": 4
        }
      ],
      "metadata": {}
    },
    {
      "cell_type": "markdown",
      "source": [
        "## **Create Vocabularies**"
      ],
      "metadata": {}
    },
    {
      "cell_type": "code",
      "execution_count": 7,
      "source": [
        "user_ids = df[\"userId\"].unique().tolist()\r\n",
        "user2user_encoded = {x: i for i, x in enumerate(user_ids)}\r\n",
        "userencoded2user = {i: x for i, x in enumerate(user_ids)}\r\n",
        "movie_ids = df[\"movieId\"].unique().tolist()\r\n",
        "movie2movie_encoded = {x: i for i, x in enumerate(movie_ids)}\r\n",
        "movie_encoded2movie = {i: x for i, x in enumerate(movie_ids)}\r\n",
        "df[\"user\"] = df[\"userId\"].map(user2user_encoded)\r\n",
        "df[\"movie\"] = df[\"movieId\"].map(movie2movie_encoded)\r\n",
        "\r\n",
        "num_users = len(user2user_encoded)\r\n",
        "num_movies = len(movie_encoded2movie)\r\n",
        "df[\"rating\"] = df[\"rating\"].values.astype(np.float32)\r\n",
        "# min and max ratings will be used to normalize the ratings later\r\n",
        "min_rating = min(df[\"rating\"])\r\n",
        "max_rating = max(df[\"rating\"])"
      ],
      "outputs": [],
      "metadata": {}
    },
    {
      "cell_type": "code",
      "execution_count": 8,
      "source": [
        "df = df.sample(frac=1, random_state=42)\r\n",
        "x = df[[\"user\", \"movie\"]].values\r\n",
        "# Normalize the targets between 0 and 1. Makes it easy to train.\r\n",
        "y = df[\"rating\"].apply(lambda x: (x - min_rating) / (max_rating - min_rating)).values\r\n",
        "# Assuming training on 90% of the data and validating on 10%.\r\n",
        "train_indices = int(0.9 * df.shape[0])\r\n",
        "x_train, x_val, y_train, y_val = (\r\n",
        "    x[:train_indices],\r\n",
        "    x[train_indices:],\r\n",
        "    y[:train_indices],\r\n",
        "    y[train_indices:],\r\n",
        ")"
      ],
      "outputs": [],
      "metadata": {}
    },
    {
      "cell_type": "code",
      "execution_count": 9,
      "source": [
        "EMBEDDING_SIZE = 50\r\n",
        "\r\n",
        "\r\n",
        "class RecommenderNet(keras.Model):\r\n",
        "    def __init__(self, num_users, num_movies, embedding_size, **kwargs):\r\n",
        "        super(RecommenderNet, self).__init__(**kwargs)\r\n",
        "        self.num_users = num_users\r\n",
        "        self.num_movies = num_movies\r\n",
        "        self.embedding_size = embedding_size\r\n",
        "        self.user_embedding = layers.Embedding(\r\n",
        "            num_users,\r\n",
        "            embedding_size,\r\n",
        "            embeddings_initializer=\"he_normal\",\r\n",
        "            embeddings_regularizer=keras.regularizers.l2(1e-6),\r\n",
        "        )\r\n",
        "        self.user_bias = layers.Embedding(num_users, 1)\r\n",
        "        self.movie_embedding = layers.Embedding(\r\n",
        "            num_movies,\r\n",
        "            embedding_size,\r\n",
        "            embeddings_initializer=\"he_normal\",\r\n",
        "            embeddings_regularizer=keras.regularizers.l2(1e-6),\r\n",
        "        )\r\n",
        "        self.movie_bias = layers.Embedding(num_movies, 1)\r\n",
        "\r\n",
        "    def call(self, inputs):\r\n",
        "        user_vector = self.user_embedding(inputs[:, 0])\r\n",
        "        user_bias = self.user_bias(inputs[:, 0])\r\n",
        "        movie_vector = self.movie_embedding(inputs[:, 1])\r\n",
        "        movie_bias = self.movie_bias(inputs[:, 1])\r\n",
        "        dot_user_movie = tf.tensordot(user_vector, movie_vector, 2)\r\n",
        "        # Add all the components (including bias)\r\n",
        "        x = dot_user_movie + user_bias + movie_bias\r\n",
        "        # The sigmoid activation forces the rating to between 0 and 1\r\n",
        "        return tf.nn.sigmoid(x)\r\n",
        "\r\n",
        "\r\n",
        "model = RecommenderNet(num_users, num_movies, EMBEDDING_SIZE)\r\n",
        "model.compile(\r\n",
        "    loss=tf.keras.losses.BinaryCrossentropy(), optimizer=keras.optimizers.Adam(lr=0.001)\r\n",
        ")"
      ],
      "outputs": [
        {
          "output_type": "stream",
          "name": "stderr",
          "text": [
            "C:\\ProgramData\\Anaconda3\\lib\\site-packages\\keras\\optimizer_v2\\optimizer_v2.py:355: UserWarning: The `lr` argument is deprecated, use `learning_rate` instead.\n",
            "  warnings.warn(\n"
          ]
        }
      ],
      "metadata": {}
    },
    {
      "cell_type": "markdown",
      "source": [
        "## **Train Model**"
      ],
      "metadata": {}
    },
    {
      "cell_type": "code",
      "execution_count": 10,
      "source": [
        "history = model.fit(\r\n",
        "    x=x_train,\r\n",
        "    y=y_train,\r\n",
        "    batch_size=64,\r\n",
        "    epochs=5,\r\n",
        "    verbose=1,\r\n",
        "    validation_data=(x_val, y_val),\r\n",
        ")"
      ],
      "outputs": [
        {
          "output_type": "stream",
          "name": "stdout",
          "text": [
            "Epoch 1/5\n",
            " 34436/300418 [==>...........................] - ETA: 5:29:03 - loss: 0.6243"
          ]
        },
        {
          "output_type": "error",
          "ename": "KeyboardInterrupt",
          "evalue": "",
          "traceback": [
            "\u001b[1;31m---------------------------------------------------------------------------\u001b[0m",
            "\u001b[1;31mKeyboardInterrupt\u001b[0m                         Traceback (most recent call last)",
            "\u001b[1;32m<ipython-input-10-843777905504>\u001b[0m in \u001b[0;36m<module>\u001b[1;34m\u001b[0m\n\u001b[1;32m----> 1\u001b[1;33m history = model.fit(\n\u001b[0m\u001b[0;32m      2\u001b[0m     \u001b[0mx\u001b[0m\u001b[1;33m=\u001b[0m\u001b[0mx_train\u001b[0m\u001b[1;33m,\u001b[0m\u001b[1;33m\u001b[0m\u001b[1;33m\u001b[0m\u001b[0m\n\u001b[0;32m      3\u001b[0m     \u001b[0my\u001b[0m\u001b[1;33m=\u001b[0m\u001b[0my_train\u001b[0m\u001b[1;33m,\u001b[0m\u001b[1;33m\u001b[0m\u001b[1;33m\u001b[0m\u001b[0m\n\u001b[0;32m      4\u001b[0m     \u001b[0mbatch_size\u001b[0m\u001b[1;33m=\u001b[0m\u001b[1;36m64\u001b[0m\u001b[1;33m,\u001b[0m\u001b[1;33m\u001b[0m\u001b[1;33m\u001b[0m\u001b[0m\n\u001b[0;32m      5\u001b[0m     \u001b[0mepochs\u001b[0m\u001b[1;33m=\u001b[0m\u001b[1;36m5\u001b[0m\u001b[1;33m,\u001b[0m\u001b[1;33m\u001b[0m\u001b[1;33m\u001b[0m\u001b[0m\n",
            "\u001b[1;32mC:\\ProgramData\\Anaconda3\\lib\\site-packages\\keras\\engine\\training.py\u001b[0m in \u001b[0;36mfit\u001b[1;34m(self, x, y, batch_size, epochs, verbose, callbacks, validation_split, validation_data, shuffle, class_weight, sample_weight, initial_epoch, steps_per_epoch, validation_steps, validation_batch_size, validation_freq, max_queue_size, workers, use_multiprocessing)\u001b[0m\n\u001b[0;32m   1182\u001b[0m                 _r=1):\n\u001b[0;32m   1183\u001b[0m               \u001b[0mcallbacks\u001b[0m\u001b[1;33m.\u001b[0m\u001b[0mon_train_batch_begin\u001b[0m\u001b[1;33m(\u001b[0m\u001b[0mstep\u001b[0m\u001b[1;33m)\u001b[0m\u001b[1;33m\u001b[0m\u001b[1;33m\u001b[0m\u001b[0m\n\u001b[1;32m-> 1184\u001b[1;33m               \u001b[0mtmp_logs\u001b[0m \u001b[1;33m=\u001b[0m \u001b[0mself\u001b[0m\u001b[1;33m.\u001b[0m\u001b[0mtrain_function\u001b[0m\u001b[1;33m(\u001b[0m\u001b[0miterator\u001b[0m\u001b[1;33m)\u001b[0m\u001b[1;33m\u001b[0m\u001b[1;33m\u001b[0m\u001b[0m\n\u001b[0m\u001b[0;32m   1185\u001b[0m               \u001b[1;32mif\u001b[0m \u001b[0mdata_handler\u001b[0m\u001b[1;33m.\u001b[0m\u001b[0mshould_sync\u001b[0m\u001b[1;33m:\u001b[0m\u001b[1;33m\u001b[0m\u001b[1;33m\u001b[0m\u001b[0m\n\u001b[0;32m   1186\u001b[0m                 \u001b[0mcontext\u001b[0m\u001b[1;33m.\u001b[0m\u001b[0masync_wait\u001b[0m\u001b[1;33m(\u001b[0m\u001b[1;33m)\u001b[0m\u001b[1;33m\u001b[0m\u001b[1;33m\u001b[0m\u001b[0m\n",
            "\u001b[1;32mC:\\ProgramData\\Anaconda3\\lib\\site-packages\\tensorflow\\python\\eager\\def_function.py\u001b[0m in \u001b[0;36m__call__\u001b[1;34m(self, *args, **kwds)\u001b[0m\n\u001b[0;32m    883\u001b[0m \u001b[1;33m\u001b[0m\u001b[0m\n\u001b[0;32m    884\u001b[0m       \u001b[1;32mwith\u001b[0m \u001b[0mOptionalXlaContext\u001b[0m\u001b[1;33m(\u001b[0m\u001b[0mself\u001b[0m\u001b[1;33m.\u001b[0m\u001b[0m_jit_compile\u001b[0m\u001b[1;33m)\u001b[0m\u001b[1;33m:\u001b[0m\u001b[1;33m\u001b[0m\u001b[1;33m\u001b[0m\u001b[0m\n\u001b[1;32m--> 885\u001b[1;33m         \u001b[0mresult\u001b[0m \u001b[1;33m=\u001b[0m \u001b[0mself\u001b[0m\u001b[1;33m.\u001b[0m\u001b[0m_call\u001b[0m\u001b[1;33m(\u001b[0m\u001b[1;33m*\u001b[0m\u001b[0margs\u001b[0m\u001b[1;33m,\u001b[0m \u001b[1;33m**\u001b[0m\u001b[0mkwds\u001b[0m\u001b[1;33m)\u001b[0m\u001b[1;33m\u001b[0m\u001b[1;33m\u001b[0m\u001b[0m\n\u001b[0m\u001b[0;32m    886\u001b[0m \u001b[1;33m\u001b[0m\u001b[0m\n\u001b[0;32m    887\u001b[0m       \u001b[0mnew_tracing_count\u001b[0m \u001b[1;33m=\u001b[0m \u001b[0mself\u001b[0m\u001b[1;33m.\u001b[0m\u001b[0mexperimental_get_tracing_count\u001b[0m\u001b[1;33m(\u001b[0m\u001b[1;33m)\u001b[0m\u001b[1;33m\u001b[0m\u001b[1;33m\u001b[0m\u001b[0m\n",
            "\u001b[1;32mC:\\ProgramData\\Anaconda3\\lib\\site-packages\\tensorflow\\python\\eager\\def_function.py\u001b[0m in \u001b[0;36m_call\u001b[1;34m(self, *args, **kwds)\u001b[0m\n\u001b[0;32m    915\u001b[0m       \u001b[1;31m# In this case we have created variables on the first call, so we run the\u001b[0m\u001b[1;33m\u001b[0m\u001b[1;33m\u001b[0m\u001b[1;33m\u001b[0m\u001b[0m\n\u001b[0;32m    916\u001b[0m       \u001b[1;31m# defunned version which is guaranteed to never create variables.\u001b[0m\u001b[1;33m\u001b[0m\u001b[1;33m\u001b[0m\u001b[1;33m\u001b[0m\u001b[0m\n\u001b[1;32m--> 917\u001b[1;33m       \u001b[1;32mreturn\u001b[0m \u001b[0mself\u001b[0m\u001b[1;33m.\u001b[0m\u001b[0m_stateless_fn\u001b[0m\u001b[1;33m(\u001b[0m\u001b[1;33m*\u001b[0m\u001b[0margs\u001b[0m\u001b[1;33m,\u001b[0m \u001b[1;33m**\u001b[0m\u001b[0mkwds\u001b[0m\u001b[1;33m)\u001b[0m  \u001b[1;31m# pylint: disable=not-callable\u001b[0m\u001b[1;33m\u001b[0m\u001b[1;33m\u001b[0m\u001b[0m\n\u001b[0m\u001b[0;32m    918\u001b[0m     \u001b[1;32melif\u001b[0m \u001b[0mself\u001b[0m\u001b[1;33m.\u001b[0m\u001b[0m_stateful_fn\u001b[0m \u001b[1;32mis\u001b[0m \u001b[1;32mnot\u001b[0m \u001b[1;32mNone\u001b[0m\u001b[1;33m:\u001b[0m\u001b[1;33m\u001b[0m\u001b[1;33m\u001b[0m\u001b[0m\n\u001b[0;32m    919\u001b[0m       \u001b[1;31m# Release the lock early so that multiple threads can perform the call\u001b[0m\u001b[1;33m\u001b[0m\u001b[1;33m\u001b[0m\u001b[1;33m\u001b[0m\u001b[0m\n",
            "\u001b[1;32mC:\\ProgramData\\Anaconda3\\lib\\site-packages\\tensorflow\\python\\eager\\function.py\u001b[0m in \u001b[0;36m__call__\u001b[1;34m(self, *args, **kwargs)\u001b[0m\n\u001b[0;32m   3037\u001b[0m       (graph_function,\n\u001b[0;32m   3038\u001b[0m        filtered_flat_args) = self._maybe_define_function(args, kwargs)\n\u001b[1;32m-> 3039\u001b[1;33m     return graph_function._call_flat(\n\u001b[0m\u001b[0;32m   3040\u001b[0m         filtered_flat_args, captured_inputs=graph_function.captured_inputs)  # pylint: disable=protected-access\n\u001b[0;32m   3041\u001b[0m \u001b[1;33m\u001b[0m\u001b[0m\n",
            "\u001b[1;32mC:\\ProgramData\\Anaconda3\\lib\\site-packages\\tensorflow\\python\\eager\\function.py\u001b[0m in \u001b[0;36m_call_flat\u001b[1;34m(self, args, captured_inputs, cancellation_manager)\u001b[0m\n\u001b[0;32m   1961\u001b[0m         and executing_eagerly):\n\u001b[0;32m   1962\u001b[0m       \u001b[1;31m# No tape is watching; skip to running the function.\u001b[0m\u001b[1;33m\u001b[0m\u001b[1;33m\u001b[0m\u001b[1;33m\u001b[0m\u001b[0m\n\u001b[1;32m-> 1963\u001b[1;33m       return self._build_call_outputs(self._inference_function.call(\n\u001b[0m\u001b[0;32m   1964\u001b[0m           ctx, args, cancellation_manager=cancellation_manager))\n\u001b[0;32m   1965\u001b[0m     forward_backward = self._select_forward_and_backward_functions(\n",
            "\u001b[1;32mC:\\ProgramData\\Anaconda3\\lib\\site-packages\\tensorflow\\python\\eager\\function.py\u001b[0m in \u001b[0;36mcall\u001b[1;34m(self, ctx, args, cancellation_manager)\u001b[0m\n\u001b[0;32m    589\u001b[0m       \u001b[1;32mwith\u001b[0m \u001b[0m_InterpolateFunctionError\u001b[0m\u001b[1;33m(\u001b[0m\u001b[0mself\u001b[0m\u001b[1;33m)\u001b[0m\u001b[1;33m:\u001b[0m\u001b[1;33m\u001b[0m\u001b[1;33m\u001b[0m\u001b[0m\n\u001b[0;32m    590\u001b[0m         \u001b[1;32mif\u001b[0m \u001b[0mcancellation_manager\u001b[0m \u001b[1;32mis\u001b[0m \u001b[1;32mNone\u001b[0m\u001b[1;33m:\u001b[0m\u001b[1;33m\u001b[0m\u001b[1;33m\u001b[0m\u001b[0m\n\u001b[1;32m--> 591\u001b[1;33m           outputs = execute.execute(\n\u001b[0m\u001b[0;32m    592\u001b[0m               \u001b[0mstr\u001b[0m\u001b[1;33m(\u001b[0m\u001b[0mself\u001b[0m\u001b[1;33m.\u001b[0m\u001b[0msignature\u001b[0m\u001b[1;33m.\u001b[0m\u001b[0mname\u001b[0m\u001b[1;33m)\u001b[0m\u001b[1;33m,\u001b[0m\u001b[1;33m\u001b[0m\u001b[1;33m\u001b[0m\u001b[0m\n\u001b[0;32m    593\u001b[0m               \u001b[0mnum_outputs\u001b[0m\u001b[1;33m=\u001b[0m\u001b[0mself\u001b[0m\u001b[1;33m.\u001b[0m\u001b[0m_num_outputs\u001b[0m\u001b[1;33m,\u001b[0m\u001b[1;33m\u001b[0m\u001b[1;33m\u001b[0m\u001b[0m\n",
            "\u001b[1;32mC:\\ProgramData\\Anaconda3\\lib\\site-packages\\tensorflow\\python\\eager\\execute.py\u001b[0m in \u001b[0;36mquick_execute\u001b[1;34m(op_name, num_outputs, inputs, attrs, ctx, name)\u001b[0m\n\u001b[0;32m     57\u001b[0m   \u001b[1;32mtry\u001b[0m\u001b[1;33m:\u001b[0m\u001b[1;33m\u001b[0m\u001b[1;33m\u001b[0m\u001b[0m\n\u001b[0;32m     58\u001b[0m     \u001b[0mctx\u001b[0m\u001b[1;33m.\u001b[0m\u001b[0mensure_initialized\u001b[0m\u001b[1;33m(\u001b[0m\u001b[1;33m)\u001b[0m\u001b[1;33m\u001b[0m\u001b[1;33m\u001b[0m\u001b[0m\n\u001b[1;32m---> 59\u001b[1;33m     tensors = pywrap_tfe.TFE_Py_Execute(ctx._handle, device_name, op_name,\n\u001b[0m\u001b[0;32m     60\u001b[0m                                         inputs, attrs, num_outputs)\n\u001b[0;32m     61\u001b[0m   \u001b[1;32mexcept\u001b[0m \u001b[0mcore\u001b[0m\u001b[1;33m.\u001b[0m\u001b[0m_NotOkStatusException\u001b[0m \u001b[1;32mas\u001b[0m \u001b[0me\u001b[0m\u001b[1;33m:\u001b[0m\u001b[1;33m\u001b[0m\u001b[1;33m\u001b[0m\u001b[0m\n",
            "\u001b[1;31mKeyboardInterrupt\u001b[0m: "
          ]
        }
      ],
      "metadata": {}
    },
    {
      "cell_type": "code",
      "execution_count": null,
      "source": [
        "plt.plot(history.history[\"loss\"])\r\n",
        "plt.plot(history.history[\"val_loss\"])\r\n",
        "plt.title(\"model loss\")\r\n",
        "plt.ylabel(\"loss\")\r\n",
        "plt.xlabel(\"epoch\")\r\n",
        "plt.legend([\"train\", \"test\"], loc=\"upper left\")\r\n",
        "plt.show()"
      ],
      "outputs": [],
      "metadata": {}
    },
    {
      "cell_type": "code",
      "execution_count": null,
      "source": [
        "movie_df =df[['movieId','title']]\r\n",
        "# Let us get a user and see the top recommendations.\r\n",
        "user_id = df.userId.sample(1).iloc[0]\r\n",
        "movies_watched_by_user = df[df.userId == user_id]\r\n",
        "movies_not_watched = movie_df[\r\n",
        "    ~movie_df[\"movieId\"].isin(movies_watched_by_user.movieId.values)\r\n",
        "][\"movieId\"]\r\n",
        "movies_not_watched = list(\r\n",
        "    set(movies_not_watched).intersection(set(movie2movie_encoded.keys()))\r\n",
        ")\r\n",
        "movies_not_watched = [[movie2movie_encoded.get(x)] for x in movies_not_watched]\r\n",
        "user_encoder = user2user_encoded.get(user_id)\r\n",
        "user_movie_array = np.hstack(\r\n",
        "    ([[user_encoder]] * len(movies_not_watched), movies_not_watched)\r\n",
        ")\r\n",
        "ratings = model.predict(user_movie_array).flatten()\r\n",
        "top_ratings_indices = ratings.argsort()[-10:][::-1]\r\n",
        "recommended_movie_ids = [\r\n",
        "    movie_encoded2movie.get(movies_not_watched[x][0]) for x in top_ratings_indices\r\n",
        "]\r\n",
        "\r\n",
        "print(\"Showing recommendations for user: {}\".format(user_id))\r\n",
        "print(\"====\" * 9)\r\n",
        "print(\"Movies with high ratings from user\")\r\n",
        "print(\"----\" * 8)\r\n",
        "top_movies_user = (\r\n",
        "    movies_watched_by_user.sort_values(by=\"rating\", ascending=False)\r\n",
        "    .head(5)\r\n",
        "    .movieId.values\r\n",
        ")\r\n",
        "movie_df_rows = movie_df[movie_df[\"movieId\"].isin(top_movies_user)]\r\n",
        "for row in movie_df_rows.itertuples():\r\n",
        "    print(row.title, \":\", row.genres)\r\n",
        "\r\n",
        "print(\"----\" * 8)\r\n",
        "print(\"Top 10 movie recommendations\")\r\n",
        "print(\"----\" * 8)\r\n",
        "recommended_movies = movie_df[movie_df[\"movieId\"].isin(recommended_movie_ids)]\r\n",
        "for row in recommended_movies.itertuples():\r\n",
        "    print(row.title, \":\", row.genres)"
      ],
      "outputs": [],
      "metadata": {}
    },
    {
      "cell_type": "markdown",
      "source": [
        "# Conclusión"
      ],
      "metadata": {
        "id": "uqfJ7ZehPQWx"
      }
    },
    {
      "cell_type": "markdown",
      "source": [
        "En el presente proyecto se puede observar lo complejo que es realizar recomendaciones, ya que esta actividad no corresponde a una ciencia cierta, ya que no es raro que nos encontremos con una película muy recomendada que no sea de nuestro gusto para nada, o, al contrario, existen situaciones en que una película que muchas personas nos decía ser horrible, termina gustándonos.\n",
        "Cada vez es más masivo el negocio del entretenimiento en streaming, la competencia es feroz, incluso existen líneas de celulares que lanzaron sus servicios de streaming. Por lo cual, estas compañías están siempre buscando la mejor forma para retener a sus clientes y atraer nuevos clientes.  Bajo esta motivación los algoritmos de recomendación se hacen cada vez más necesarios.\n",
        "\n",
        "Se utilizó el algoritmo más común que es por popularidad, por su simplicidad es muy usado, sobre todo en páginas web de contenido con menos recursos y conocimientos en Machine Learning. Nos permite evaluar las películas según qué tan populares son, equilibrando la puntuación y la cantidad de puntuaciones que ha recibido. Este modelo es muy básico y poco preciso, ya que no genera recomendaciones personalizadas.\n",
        "\n",
        "Posterior a ello se desarrolló el algoritmo ALS, el cual generó muy buenos resultados, aunque sucedía que antes de limitar que una película debía estar al menos 30 veces evaluada para ser considerada, este algoritmo tendía a recomendar películas poco reproducidas y de mala calidad. Por esto se tomó la decisión de aumentar este requerimiento, que permitió mejorar considerablemente el modelo. Si bien tiene métricas bastante bajas, es importante controlar su desempeño y probar los resultados.\n",
        "\n",
        "El algoritmo KNN nos compara nuestros gustos con las K personas más similares y a partir de ello realiza la recomendación. Tiene como ventaja la simplicidad, pero no se consiguió poder utilizar más de 3 millones de datos, debido a que la matriz utilizada para la predicción coloca a los usuarios en las columnas y las películas en las filas, ya que el problema del KNN funciona bien con muestras más pequeñas.\n",
        "\n",
        "Y finalmente el Colaborative Filtering que obtuvo un RMSE menor que el obtenido en el uso del ALS, siendo que ocupa menos datos que el ALS, utilizando únicamente los usuarios, las películas y las calificaciones. Dado a la métrica del RMSE seleccionamos el mejor modelo y validamos el modelo a distintos usurarios, cuyos resultados se aprecian en el Anexo.\n",
        "\n",
        "Podemos señalar que se considera el mejor modelo al filtro colaborativo, que fue el que generó mejores resultados con un tiempo de ejecución relativamente bajo. Aunque en situaciones con bajo o nulo número de datos, se recomienda el uso del modelo de popularidad. Y en caso de que una persona se encuentre en búsqueda de una película similar a la que le gusta se recomienda el uso de KNN, ya que simplifica bastante la búsqueda, y es fácilmente actualizable.\n"
      ],
      "metadata": {
        "id": "cXzqedzwAKHe"
      }
    },
    {
      "cell_type": "code",
      "execution_count": null,
      "source": [],
      "outputs": [],
      "metadata": {
        "id": "7WFv1l6bAMXb"
      }
    }
  ]
}